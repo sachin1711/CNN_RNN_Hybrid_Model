{
 "cells": [
  {
   "cell_type": "markdown",
   "metadata": {
    "papermill": {
     "duration": 0.026113,
     "end_time": "2025-01-09T13:09:36.689325",
     "exception": false,
     "start_time": "2025-01-09T13:09:36.663212",
     "status": "completed"
    },
    "tags": []
   },
   "source": [
    "##  Importing Dependencies\n",
    "   We shall start by importing all the neccessary libraries. "
   ]
  },
  {
   "cell_type": "code",
   "execution_count": 1,
   "metadata": {
    "_cell_guid": "79c7e3d0-c299-4dcb-8224-4455121ee9b0",
    "_uuid": "d629ff2d2480ee46fbb7e2d37f6b5fab8052498a",
    "execution": {
     "iopub.execute_input": "2024-12-29T18:14:26.083096Z",
     "iopub.status.busy": "2024-12-29T18:14:26.082824Z",
     "iopub.status.idle": "2024-12-29T18:14:33.265444Z",
     "shell.execute_reply": "2024-12-29T18:14:33.264310Z",
     "shell.execute_reply.started": "2024-12-29T18:14:26.083051Z"
    },
    "papermill": {
     "duration": 5.469761,
     "end_time": "2025-01-09T13:09:42.185789",
     "exception": false,
     "start_time": "2025-01-09T13:09:36.716028",
     "status": "completed"
    },
    "tags": []
   },
   "outputs": [
    {
     "name": "stdout",
     "output_type": "stream",
     "text": [
      "[nltk_data] Downloading package stopwords to /usr/share/nltk_data...\n",
      "[nltk_data]   Unzipping corpora/stopwords.zip.\n",
      "Tensorflow Version 2.1.0\n"
     ]
    }
   ],
   "source": [
    "import tensorflow as tf\n",
    "import matplotlib.pyplot as plt\n",
    "import pandas as pd\n",
    "import numpy as np\n",
    "\n",
    "\n",
    "import nltk \n",
    "nltk.download('stopwords')\n",
    "from nltk.corpus import stopwords\n",
    "from nltk.stem import SnowballStemmer\n",
    "\n",
    "\n",
    "\n",
    "from sklearn.model_selection import train_test_split\n",
    "from sklearn.preprocessing import LabelEncoder\n",
    "\n",
    "\n",
    "import re\n",
    "\n",
    "print(\"Tensorflow Version\",tf.__version__)"
   ]
  },
  {
   "cell_type": "markdown",
   "metadata": {
    "papermill": {
     "duration": 0.025402,
     "end_time": "2025-01-09T13:09:42.236575",
     "exception": false,
     "start_time": "2025-01-09T13:09:42.211173",
     "status": "completed"
    },
    "tags": []
   },
   "source": [
    "#  Dataset Preprocessing\n",
    "In this notebook, I am using **Sentiment-140** from [Kaggle](https://www.kaggle.com/kazanova/sentiment140). It contains a labels data of 1.6 Million Tweets."
   ]
  },
  {
   "cell_type": "code",
   "execution_count": 2,
   "metadata": {
    "execution": {
     "iopub.execute_input": "2024-12-29T18:14:54.075120Z",
     "iopub.status.busy": "2024-12-29T18:14:54.074622Z",
     "iopub.status.idle": "2024-12-29T18:15:00.903650Z",
     "shell.execute_reply": "2024-12-29T18:15:00.902650Z",
     "shell.execute_reply.started": "2024-12-29T18:14:54.075065Z"
    },
    "papermill": {
     "duration": 5.674307,
     "end_time": "2025-01-09T13:09:47.935256",
     "exception": false,
     "start_time": "2025-01-09T13:09:42.260949",
     "status": "completed"
    },
    "tags": []
   },
   "outputs": [
    {
     "data": {
      "text/html": [
       "<div>\n",
       "<style scoped>\n",
       "    .dataframe tbody tr th:only-of-type {\n",
       "        vertical-align: middle;\n",
       "    }\n",
       "\n",
       "    .dataframe tbody tr th {\n",
       "        vertical-align: top;\n",
       "    }\n",
       "\n",
       "    .dataframe thead th {\n",
       "        text-align: right;\n",
       "    }\n",
       "</style>\n",
       "<table border=\"1\" class=\"dataframe\">\n",
       "  <thead>\n",
       "    <tr style=\"text-align: right;\">\n",
       "      <th></th>\n",
       "      <th>0</th>\n",
       "      <th>1</th>\n",
       "      <th>2</th>\n",
       "      <th>3</th>\n",
       "      <th>4</th>\n",
       "      <th>5</th>\n",
       "    </tr>\n",
       "  </thead>\n",
       "  <tbody>\n",
       "    <tr>\n",
       "      <th>0</th>\n",
       "      <td>0</td>\n",
       "      <td>1467810369</td>\n",
       "      <td>Mon Apr 06 22:19:45 PDT 2009</td>\n",
       "      <td>NO_QUERY</td>\n",
       "      <td>_TheSpecialOne_</td>\n",
       "      <td>@switchfoot http://twitpic.com/2y1zl - Awww, t...</td>\n",
       "    </tr>\n",
       "    <tr>\n",
       "      <th>1</th>\n",
       "      <td>0</td>\n",
       "      <td>1467810672</td>\n",
       "      <td>Mon Apr 06 22:19:49 PDT 2009</td>\n",
       "      <td>NO_QUERY</td>\n",
       "      <td>scotthamilton</td>\n",
       "      <td>is upset that he can't update his Facebook by ...</td>\n",
       "    </tr>\n",
       "    <tr>\n",
       "      <th>2</th>\n",
       "      <td>0</td>\n",
       "      <td>1467810917</td>\n",
       "      <td>Mon Apr 06 22:19:53 PDT 2009</td>\n",
       "      <td>NO_QUERY</td>\n",
       "      <td>mattycus</td>\n",
       "      <td>@Kenichan I dived many times for the ball. Man...</td>\n",
       "    </tr>\n",
       "    <tr>\n",
       "      <th>3</th>\n",
       "      <td>0</td>\n",
       "      <td>1467811184</td>\n",
       "      <td>Mon Apr 06 22:19:57 PDT 2009</td>\n",
       "      <td>NO_QUERY</td>\n",
       "      <td>ElleCTF</td>\n",
       "      <td>my whole body feels itchy and like its on fire</td>\n",
       "    </tr>\n",
       "    <tr>\n",
       "      <th>4</th>\n",
       "      <td>0</td>\n",
       "      <td>1467811193</td>\n",
       "      <td>Mon Apr 06 22:19:57 PDT 2009</td>\n",
       "      <td>NO_QUERY</td>\n",
       "      <td>Karoli</td>\n",
       "      <td>@nationwideclass no, it's not behaving at all....</td>\n",
       "    </tr>\n",
       "  </tbody>\n",
       "</table>\n",
       "</div>"
      ],
      "text/plain": [
       "   0           1                             2         3                4  \\\n",
       "0  0  1467810369  Mon Apr 06 22:19:45 PDT 2009  NO_QUERY  _TheSpecialOne_   \n",
       "1  0  1467810672  Mon Apr 06 22:19:49 PDT 2009  NO_QUERY    scotthamilton   \n",
       "2  0  1467810917  Mon Apr 06 22:19:53 PDT 2009  NO_QUERY         mattycus   \n",
       "3  0  1467811184  Mon Apr 06 22:19:57 PDT 2009  NO_QUERY          ElleCTF   \n",
       "4  0  1467811193  Mon Apr 06 22:19:57 PDT 2009  NO_QUERY           Karoli   \n",
       "\n",
       "                                                   5  \n",
       "0  @switchfoot http://twitpic.com/2y1zl - Awww, t...  \n",
       "1  is upset that he can't update his Facebook by ...  \n",
       "2  @Kenichan I dived many times for the ball. Man...  \n",
       "3    my whole body feels itchy and like its on fire   \n",
       "4  @nationwideclass no, it's not behaving at all....  "
      ]
     },
     "execution_count": 2,
     "metadata": {},
     "output_type": "execute_result"
    }
   ],
   "source": [
    "df = pd.read_csv('../input/sentiment140/training.1600000.processed.noemoticon.csv',\n",
    "                 encoding = 'latin',header=None)\n",
    "df.head()"
   ]
  },
  {
   "cell_type": "markdown",
   "metadata": {
    "papermill": {
     "duration": 0.024941,
     "end_time": "2025-01-09T13:09:47.986735",
     "exception": false,
     "start_time": "2025-01-09T13:09:47.961794",
     "status": "completed"
    },
    "tags": []
   },
   "source": [
    "You can see the columns are without any proper names. Lets rename them for our reference"
   ]
  },
  {
   "cell_type": "code",
   "execution_count": 3,
   "metadata": {
    "execution": {
     "iopub.execute_input": "2024-12-29T18:15:00.907001Z",
     "iopub.status.busy": "2024-12-29T18:15:00.906363Z",
     "iopub.status.idle": "2024-12-29T18:15:00.921261Z",
     "shell.execute_reply": "2024-12-29T18:15:00.919952Z",
     "shell.execute_reply.started": "2024-12-29T18:15:00.906753Z"
    },
    "papermill": {
     "duration": 0.039852,
     "end_time": "2025-01-09T13:09:48.052227",
     "exception": false,
     "start_time": "2025-01-09T13:09:48.012375",
     "status": "completed"
    },
    "tags": []
   },
   "outputs": [
    {
     "data": {
      "text/html": [
       "<div>\n",
       "<style scoped>\n",
       "    .dataframe tbody tr th:only-of-type {\n",
       "        vertical-align: middle;\n",
       "    }\n",
       "\n",
       "    .dataframe tbody tr th {\n",
       "        vertical-align: top;\n",
       "    }\n",
       "\n",
       "    .dataframe thead th {\n",
       "        text-align: right;\n",
       "    }\n",
       "</style>\n",
       "<table border=\"1\" class=\"dataframe\">\n",
       "  <thead>\n",
       "    <tr style=\"text-align: right;\">\n",
       "      <th></th>\n",
       "      <th>sentiment</th>\n",
       "      <th>id</th>\n",
       "      <th>date</th>\n",
       "      <th>query</th>\n",
       "      <th>user_id</th>\n",
       "      <th>text</th>\n",
       "    </tr>\n",
       "  </thead>\n",
       "  <tbody>\n",
       "    <tr>\n",
       "      <th>0</th>\n",
       "      <td>0</td>\n",
       "      <td>1467810369</td>\n",
       "      <td>Mon Apr 06 22:19:45 PDT 2009</td>\n",
       "      <td>NO_QUERY</td>\n",
       "      <td>_TheSpecialOne_</td>\n",
       "      <td>@switchfoot http://twitpic.com/2y1zl - Awww, t...</td>\n",
       "    </tr>\n",
       "    <tr>\n",
       "      <th>1</th>\n",
       "      <td>0</td>\n",
       "      <td>1467810672</td>\n",
       "      <td>Mon Apr 06 22:19:49 PDT 2009</td>\n",
       "      <td>NO_QUERY</td>\n",
       "      <td>scotthamilton</td>\n",
       "      <td>is upset that he can't update his Facebook by ...</td>\n",
       "    </tr>\n",
       "    <tr>\n",
       "      <th>2</th>\n",
       "      <td>0</td>\n",
       "      <td>1467810917</td>\n",
       "      <td>Mon Apr 06 22:19:53 PDT 2009</td>\n",
       "      <td>NO_QUERY</td>\n",
       "      <td>mattycus</td>\n",
       "      <td>@Kenichan I dived many times for the ball. Man...</td>\n",
       "    </tr>\n",
       "    <tr>\n",
       "      <th>3</th>\n",
       "      <td>0</td>\n",
       "      <td>1467811184</td>\n",
       "      <td>Mon Apr 06 22:19:57 PDT 2009</td>\n",
       "      <td>NO_QUERY</td>\n",
       "      <td>ElleCTF</td>\n",
       "      <td>my whole body feels itchy and like its on fire</td>\n",
       "    </tr>\n",
       "    <tr>\n",
       "      <th>4</th>\n",
       "      <td>0</td>\n",
       "      <td>1467811193</td>\n",
       "      <td>Mon Apr 06 22:19:57 PDT 2009</td>\n",
       "      <td>NO_QUERY</td>\n",
       "      <td>Karoli</td>\n",
       "      <td>@nationwideclass no, it's not behaving at all....</td>\n",
       "    </tr>\n",
       "  </tbody>\n",
       "</table>\n",
       "</div>"
      ],
      "text/plain": [
       "   sentiment          id                          date     query  \\\n",
       "0          0  1467810369  Mon Apr 06 22:19:45 PDT 2009  NO_QUERY   \n",
       "1          0  1467810672  Mon Apr 06 22:19:49 PDT 2009  NO_QUERY   \n",
       "2          0  1467810917  Mon Apr 06 22:19:53 PDT 2009  NO_QUERY   \n",
       "3          0  1467811184  Mon Apr 06 22:19:57 PDT 2009  NO_QUERY   \n",
       "4          0  1467811193  Mon Apr 06 22:19:57 PDT 2009  NO_QUERY   \n",
       "\n",
       "           user_id                                               text  \n",
       "0  _TheSpecialOne_  @switchfoot http://twitpic.com/2y1zl - Awww, t...  \n",
       "1    scotthamilton  is upset that he can't update his Facebook by ...  \n",
       "2         mattycus  @Kenichan I dived many times for the ball. Man...  \n",
       "3          ElleCTF    my whole body feels itchy and like its on fire   \n",
       "4           Karoli  @nationwideclass no, it's not behaving at all....  "
      ]
     },
     "execution_count": 3,
     "metadata": {},
     "output_type": "execute_result"
    }
   ],
   "source": [
    "df.columns = ['sentiment', 'id', 'date', 'query', 'user_id', 'text']\n",
    "df.head()"
   ]
  },
  {
   "cell_type": "markdown",
   "metadata": {
    "papermill": {
     "duration": 0.025285,
     "end_time": "2025-01-09T13:09:48.103517",
     "exception": false,
     "start_time": "2025-01-09T13:09:48.078232",
     "status": "completed"
    },
    "tags": []
   },
   "source": [
    "We are going to train only on text to classify its sentiment. So we can ditch the rest of the useless columns."
   ]
  },
  {
   "cell_type": "code",
   "execution_count": 4,
   "metadata": {
    "execution": {
     "iopub.execute_input": "2024-12-29T18:15:00.923159Z",
     "iopub.status.busy": "2024-12-29T18:15:00.922782Z",
     "iopub.status.idle": "2024-12-29T18:15:00.976110Z",
     "shell.execute_reply": "2024-12-29T18:15:00.975123Z",
     "shell.execute_reply.started": "2024-12-29T18:15:00.923085Z"
    },
    "papermill": {
     "duration": 0.070373,
     "end_time": "2025-01-09T13:09:48.199658",
     "exception": false,
     "start_time": "2025-01-09T13:09:48.129285",
     "status": "completed"
    },
    "tags": []
   },
   "outputs": [],
   "source": [
    "df = df.drop(['id', 'date', 'query', 'user_id'], axis=1)"
   ]
  },
  {
   "cell_type": "code",
   "execution_count": 5,
   "metadata": {
    "execution": {
     "iopub.execute_input": "2024-12-29T18:15:00.977677Z",
     "iopub.status.busy": "2024-12-29T18:15:00.977342Z",
     "iopub.status.idle": "2024-12-29T18:15:01.426240Z",
     "shell.execute_reply": "2024-12-29T18:15:01.425384Z",
     "shell.execute_reply.started": "2024-12-29T18:15:00.977619Z"
    },
    "papermill": {
     "duration": 0.420771,
     "end_time": "2025-01-09T13:09:48.646451",
     "exception": false,
     "start_time": "2025-01-09T13:09:48.225680",
     "status": "completed"
    },
    "tags": []
   },
   "outputs": [
    {
     "data": {
      "text/html": [
       "<div>\n",
       "<style scoped>\n",
       "    .dataframe tbody tr th:only-of-type {\n",
       "        vertical-align: middle;\n",
       "    }\n",
       "\n",
       "    .dataframe tbody tr th {\n",
       "        vertical-align: top;\n",
       "    }\n",
       "\n",
       "    .dataframe thead th {\n",
       "        text-align: right;\n",
       "    }\n",
       "</style>\n",
       "<table border=\"1\" class=\"dataframe\">\n",
       "  <thead>\n",
       "    <tr style=\"text-align: right;\">\n",
       "      <th></th>\n",
       "      <th>sentiment</th>\n",
       "      <th>text</th>\n",
       "    </tr>\n",
       "  </thead>\n",
       "  <tbody>\n",
       "    <tr>\n",
       "      <th>0</th>\n",
       "      <td>Negative</td>\n",
       "      <td>@switchfoot http://twitpic.com/2y1zl - Awww, t...</td>\n",
       "    </tr>\n",
       "    <tr>\n",
       "      <th>1</th>\n",
       "      <td>Negative</td>\n",
       "      <td>is upset that he can't update his Facebook by ...</td>\n",
       "    </tr>\n",
       "    <tr>\n",
       "      <th>2</th>\n",
       "      <td>Negative</td>\n",
       "      <td>@Kenichan I dived many times for the ball. Man...</td>\n",
       "    </tr>\n",
       "    <tr>\n",
       "      <th>3</th>\n",
       "      <td>Negative</td>\n",
       "      <td>my whole body feels itchy and like its on fire</td>\n",
       "    </tr>\n",
       "    <tr>\n",
       "      <th>4</th>\n",
       "      <td>Negative</td>\n",
       "      <td>@nationwideclass no, it's not behaving at all....</td>\n",
       "    </tr>\n",
       "  </tbody>\n",
       "</table>\n",
       "</div>"
      ],
      "text/plain": [
       "  sentiment                                               text\n",
       "0  Negative  @switchfoot http://twitpic.com/2y1zl - Awww, t...\n",
       "1  Negative  is upset that he can't update his Facebook by ...\n",
       "2  Negative  @Kenichan I dived many times for the ball. Man...\n",
       "3  Negative    my whole body feels itchy and like its on fire \n",
       "4  Negative  @nationwideclass no, it's not behaving at all...."
      ]
     },
     "execution_count": 5,
     "metadata": {},
     "output_type": "execute_result"
    }
   ],
   "source": [
    "lab_to_sentiment = {0:\"Negative\", 4:\"Positive\"}\n",
    "def label_decoder(label):\n",
    "  return lab_to_sentiment[label]\n",
    "df.sentiment = df.sentiment.apply(lambda x: label_decoder(x))\n",
    "df.head()"
   ]
  },
  {
   "cell_type": "markdown",
   "metadata": {
    "papermill": {
     "duration": 0.025243,
     "end_time": "2025-01-09T13:09:48.697601",
     "exception": false,
     "start_time": "2025-01-09T13:09:48.672358",
     "status": "completed"
    },
    "tags": []
   },
   "source": [
    "Here are decoding the labels. We map **0 -> Negative and 1 -> Positive** as directed by the datset desciption. Now that we decoded we shall now analyse the dataset by its distribution. "
   ]
  },
  {
   "cell_type": "code",
   "execution_count": 6,
   "metadata": {
    "execution": {
     "iopub.execute_input": "2024-12-29T18:15:01.428596Z",
     "iopub.status.busy": "2024-12-29T18:15:01.428319Z",
     "iopub.status.idle": "2024-12-29T18:15:01.434349Z",
     "shell.execute_reply": "2024-12-29T18:15:01.433488Z",
     "shell.execute_reply.started": "2024-12-29T18:15:01.428554Z"
    },
    "papermill": {
     "duration": 0.03355,
     "end_time": "2025-01-09T13:09:48.756787",
     "exception": false,
     "start_time": "2025-01-09T13:09:48.723237",
     "status": "completed"
    },
    "tags": []
   },
   "outputs": [
    {
     "data": {
      "text/plain": [
       "'val_count = df.sentiment.value_counts()\\n\\nplt.figure(figsize=(8,4))\\nplt.bar(val_count.index, val_count.values)\\nplt.title(\"Sentiment Data Distribution\")'"
      ]
     },
     "execution_count": 6,
     "metadata": {},
     "output_type": "execute_result"
    }
   ],
   "source": [
    "\"\"\"val_count = df.sentiment.value_counts()\n",
    "\n",
    "plt.figure(figsize=(8,4))\n",
    "plt.bar(val_count.index, val_count.values)\n",
    "plt.title(\"Sentiment Data Distribution\")\"\"\""
   ]
  },
  {
   "cell_type": "markdown",
   "metadata": {
    "papermill": {
     "duration": 0.025424,
     "end_time": "2025-01-09T13:09:48.808306",
     "exception": false,
     "start_time": "2025-01-09T13:09:48.782882",
     "status": "completed"
    },
    "tags": []
   },
   "source": [
    "It's a very good dataset without any skewness. \n",
    "\n",
    "Now let us explore the data we having here... "
   ]
  },
  {
   "cell_type": "code",
   "execution_count": 7,
   "metadata": {
    "execution": {
     "iopub.execute_input": "2024-12-29T18:15:01.961850Z",
     "iopub.status.busy": "2024-12-29T18:15:01.961276Z",
     "iopub.status.idle": "2024-12-29T18:15:02.147122Z",
     "shell.execute_reply": "2024-12-29T18:15:02.145963Z",
     "shell.execute_reply.started": "2024-12-29T18:15:01.961751Z"
    },
    "papermill": {
     "duration": 0.174974,
     "end_time": "2025-01-09T13:09:49.009084",
     "exception": false,
     "start_time": "2025-01-09T13:09:48.834110",
     "status": "completed"
    },
    "tags": []
   },
   "outputs": [
    {
     "data": {
      "text/html": [
       "<div>\n",
       "<style scoped>\n",
       "    .dataframe tbody tr th:only-of-type {\n",
       "        vertical-align: middle;\n",
       "    }\n",
       "\n",
       "    .dataframe tbody tr th {\n",
       "        vertical-align: top;\n",
       "    }\n",
       "\n",
       "    .dataframe thead th {\n",
       "        text-align: right;\n",
       "    }\n",
       "</style>\n",
       "<table border=\"1\" class=\"dataframe\">\n",
       "  <thead>\n",
       "    <tr style=\"text-align: right;\">\n",
       "      <th></th>\n",
       "      <th>sentiment</th>\n",
       "      <th>text</th>\n",
       "    </tr>\n",
       "  </thead>\n",
       "  <tbody>\n",
       "    <tr>\n",
       "      <th>1569017</th>\n",
       "      <td>Positive</td>\n",
       "      <td>@davidon backseat of the new vios ya. definite...</td>\n",
       "    </tr>\n",
       "    <tr>\n",
       "      <th>390603</th>\n",
       "      <td>Negative</td>\n",
       "      <td>And it rains and rains. What a saturday evening</td>\n",
       "    </tr>\n",
       "    <tr>\n",
       "      <th>845839</th>\n",
       "      <td>Positive</td>\n",
       "      <td>you have awesome red hair, gorgeous eyes and a...</td>\n",
       "    </tr>\n",
       "    <tr>\n",
       "      <th>201607</th>\n",
       "      <td>Negative</td>\n",
       "      <td>@VirtualCD_CTEn Morning!! It's a perfect day h...</td>\n",
       "    </tr>\n",
       "    <tr>\n",
       "      <th>520518</th>\n",
       "      <td>Negative</td>\n",
       "      <td>Don't you hate it wgen you wait sooo long for ...</td>\n",
       "    </tr>\n",
       "    <tr>\n",
       "      <th>1450008</th>\n",
       "      <td>Positive</td>\n",
       "      <td>Yesterday's missing stuff has reappeared, comp...</td>\n",
       "    </tr>\n",
       "    <tr>\n",
       "      <th>276014</th>\n",
       "      <td>Negative</td>\n",
       "      <td>Graduated!!! done with the awesome weekend. no...</td>\n",
       "    </tr>\n",
       "    <tr>\n",
       "      <th>1498014</th>\n",
       "      <td>Positive</td>\n",
       "      <td>Home from a long day of shopping. No miso soup...</td>\n",
       "    </tr>\n",
       "    <tr>\n",
       "      <th>900046</th>\n",
       "      <td>Positive</td>\n",
       "      <td>goodnight twitterville! really enjoyed pearl h...</td>\n",
       "    </tr>\n",
       "    <tr>\n",
       "      <th>945906</th>\n",
       "      <td>Positive</td>\n",
       "      <td>Well, currently I'm on the deck but you know w...</td>\n",
       "    </tr>\n",
       "  </tbody>\n",
       "</table>\n",
       "</div>"
      ],
      "text/plain": [
       "        sentiment                                               text\n",
       "1569017  Positive  @davidon backseat of the new vios ya. definite...\n",
       "390603   Negative   And it rains and rains. What a saturday evening \n",
       "845839   Positive  you have awesome red hair, gorgeous eyes and a...\n",
       "201607   Negative  @VirtualCD_CTEn Morning!! It's a perfect day h...\n",
       "520518   Negative  Don't you hate it wgen you wait sooo long for ...\n",
       "1450008  Positive  Yesterday's missing stuff has reappeared, comp...\n",
       "276014   Negative  Graduated!!! done with the awesome weekend. no...\n",
       "1498014  Positive  Home from a long day of shopping. No miso soup...\n",
       "900046   Positive  goodnight twitterville! really enjoyed pearl h...\n",
       "945906   Positive  Well, currently I'm on the deck but you know w..."
      ]
     },
     "execution_count": 7,
     "metadata": {},
     "output_type": "execute_result"
    }
   ],
   "source": [
    "import random\n",
    "random_idx_list = [random.randint(1,len(df.text)) for i in range(10)] # creates random indexes to choose from dataframe\n",
    "df.loc[random_idx_list,:].head(10) # Returns the rows with the index and display it"
   ]
  },
  {
   "cell_type": "markdown",
   "metadata": {
    "papermill": {
     "duration": 0.025812,
     "end_time": "2025-01-09T13:09:49.061352",
     "exception": false,
     "start_time": "2025-01-09T13:09:49.035540",
     "status": "completed"
    },
    "tags": []
   },
   "source": [
    "Looks like we have a nasty data in text. Because in general we use lot of punctuations and other words without any contextual meaning. It have no value as feature to the model we are training. So we need to get rid of them.\n",
    "\n",
    "# Text Preprocessing\n",
    "Tweet texts often consists of other user mentions, hyperlink texts, emoticons and punctuations. In order to use them for learning using a Language Model. We cannot permit those texts for training a model. So we have to clean the text data using various preprocessing and cleansing methods. Let's continue\n",
    "\n"
   ]
  },
  {
   "cell_type": "code",
   "execution_count": 8,
   "metadata": {
    "execution": {
     "iopub.execute_input": "2024-12-29T18:15:03.108188Z",
     "iopub.status.busy": "2024-12-29T18:15:03.107839Z",
     "iopub.status.idle": "2024-12-29T18:15:03.115015Z",
     "shell.execute_reply": "2024-12-29T18:15:03.113824Z",
     "shell.execute_reply.started": "2024-12-29T18:15:03.108141Z"
    },
    "papermill": {
     "duration": 0.034558,
     "end_time": "2025-01-09T13:09:49.122173",
     "exception": false,
     "start_time": "2025-01-09T13:09:49.087615",
     "status": "completed"
    },
    "tags": []
   },
   "outputs": [],
   "source": [
    "emoticon_dict = {\n",
    "    \":)\": \"smile\",\n",
    "    \":-)\": \"smile\",\n",
    "    \":(\": \"sad\",\n",
    "    \":-(\": \"sad\",\n",
    "    \":D\": \"laugh\",\n",
    "    \":-D\": \"laugh\",\n",
    "    \":P\": \"playful\",\n",
    "    \":-P\": \"playful\",\n",
    "    \";)\": \"wink\",\n",
    "    \";-)\": \"wink\",\n",
    "    \":/\": \"unsure\",\n",
    "    \":-/\": \"unsure\",\n",
    "    \":|\": \"neutral\",\n",
    "    \":-|\": \"neutral\",\n",
    "    \":'(\": \"cry\",\n",
    "    \"<3\": \"love\",\n",
    "    \":o\": \"surprise\",\n",
    "    \":-o\": \"surprise\"\n",
    "    # Add more emoticons as needed\n",
    "}\n"
   ]
  },
  {
   "cell_type": "code",
   "execution_count": 9,
   "metadata": {
    "execution": {
     "iopub.execute_input": "2024-12-29T18:15:03.777201Z",
     "iopub.status.busy": "2024-12-29T18:15:03.776854Z",
     "iopub.status.idle": "2024-12-29T18:15:03.786164Z",
     "shell.execute_reply": "2024-12-29T18:15:03.785139Z",
     "shell.execute_reply.started": "2024-12-29T18:15:03.777152Z"
    },
    "papermill": {
     "duration": 0.037211,
     "end_time": "2025-01-09T13:09:49.185725",
     "exception": false,
     "start_time": "2025-01-09T13:09:49.148514",
     "status": "completed"
    },
    "tags": []
   },
   "outputs": [],
   "source": [
    "stop_words = stopwords.words('english')\n",
    "\n",
    "# Remove important stop words for sentiment analysis\n",
    "important_words = [\n",
    "    'not', 'no', 'never', 'but', 'however', 'very', 'too', 'so', 'just', \n",
    "    'only', 'almost', 'quite', 'rather', 'barely', 'hardly', 'scarcely', \n",
    "    'yet', 'despite', 'really', 'definitely', 'absolutely', 'unless', \n",
    "    'otherwise', 'if', 'what', 'how', 'why'\n",
    "]\n",
    "\n",
    "for word in important_words:\n",
    "    if word in stop_words:\n",
    "        stop_words.remove(word)\n",
    "\n",
    "stemmer = SnowballStemmer('english')\n",
    "\n",
    "text_cleaning_re = \"@\\S+|https?:\\S+|http?:\\S|[^A-Za-z0-9]+\""
   ]
  },
  {
   "cell_type": "code",
   "execution_count": 10,
   "metadata": {
    "execution": {
     "iopub.execute_input": "2024-12-29T18:15:04.368858Z",
     "iopub.status.busy": "2024-12-29T18:15:04.368483Z",
     "iopub.status.idle": "2024-12-29T18:15:04.373428Z",
     "shell.execute_reply": "2024-12-29T18:15:04.372447Z",
     "shell.execute_reply.started": "2024-12-29T18:15:04.368773Z"
    },
    "papermill": {
     "duration": 0.033668,
     "end_time": "2025-01-09T13:09:49.245637",
     "exception": false,
     "start_time": "2025-01-09T13:09:49.211969",
     "status": "completed"
    },
    "tags": []
   },
   "outputs": [],
   "source": [
    "# Define slang dictionary outside the function\n",
    "slang_dict = {\"thx\": \"thanks\", \"u\": \"you\", \"ur\": \"your\", \"gr8\": \"great\", \"luv\": \"love\", \"b4\": \"before\", \"im\": \"i'm\"}\n"
   ]
  },
  {
   "cell_type": "code",
   "execution_count": 11,
   "metadata": {
    "execution": {
     "iopub.execute_input": "2024-12-29T18:15:08.284453Z",
     "iopub.status.busy": "2024-12-29T18:15:08.284103Z",
     "iopub.status.idle": "2024-12-29T18:15:08.292808Z",
     "shell.execute_reply": "2024-12-29T18:15:08.291804Z",
     "shell.execute_reply.started": "2024-12-29T18:15:08.284404Z"
    },
    "papermill": {
     "duration": 0.035837,
     "end_time": "2025-01-09T13:09:49.307921",
     "exception": false,
     "start_time": "2025-01-09T13:09:49.272084",
     "status": "completed"
    },
    "tags": []
   },
   "outputs": [],
   "source": [
    "def preprocess(text, stem=False):\n",
    "    # Step 1: Clean using regex (remove mentions, links, etc.)\n",
    "    text = re.sub(text_cleaning_re, ' ', str(text).lower()).strip()\n",
    "\n",
    "    # Step 2: Remove numbers\n",
    "    text = re.sub(r'\\d+', '', text)\n",
    "\n",
    "    # Step 3: Replace emoticons with their text meanings\n",
    "    text = ' '.join([emoticon_dict[token] if token in emoticon_dict else token for token in text.split()])\n",
    "\n",
    "    # Step 4: Expand slang/abbreviations\n",
    "    text = ' '.join([slang_dict[token] if token in slang_dict else token for token in text.split()])\n",
    "\n",
    "    # Step 5: Tokenize, remove stop words, and optionally stem\n",
    "    tokens = []\n",
    "    for token in text.split():\n",
    "        '''if token not in stop_words:\n",
    "            if stem:\n",
    "                tokens.append(stemmer.stem(token))\n",
    "            else:\n",
    "                tokens.append(token)'''\n",
    "        tokens.append(token)\n",
    "\n",
    "    # Step 6: Return the cleaned text\n",
    "    return \" \".join(tokens)\n"
   ]
  },
  {
   "cell_type": "code",
   "execution_count": 12,
   "metadata": {
    "execution": {
     "iopub.execute_input": "2024-12-29T18:15:08.923582Z",
     "iopub.status.busy": "2024-12-29T18:15:08.923180Z",
     "iopub.status.idle": "2024-12-29T18:15:39.452875Z",
     "shell.execute_reply": "2024-12-29T18:15:39.451743Z",
     "shell.execute_reply.started": "2024-12-29T18:15:08.923498Z"
    },
    "papermill": {
     "duration": 25.899592,
     "end_time": "2025-01-09T13:10:15.234169",
     "exception": false,
     "start_time": "2025-01-09T13:09:49.334577",
     "status": "completed"
    },
    "tags": []
   },
   "outputs": [],
   "source": [
    "df.text = df.text.apply(lambda x: preprocess(x))"
   ]
  },
  {
   "cell_type": "code",
   "execution_count": 13,
   "metadata": {
    "execution": {
     "iopub.execute_input": "2024-12-29T18:15:39.455692Z",
     "iopub.status.busy": "2024-12-29T18:15:39.455183Z",
     "iopub.status.idle": "2024-12-29T18:15:39.466933Z",
     "shell.execute_reply": "2024-12-29T18:15:39.465721Z",
     "shell.execute_reply.started": "2024-12-29T18:15:39.455602Z"
    },
    "papermill": {
     "duration": 0.037743,
     "end_time": "2025-01-09T13:10:15.299633",
     "exception": false,
     "start_time": "2025-01-09T13:10:15.261890",
     "status": "completed"
    },
    "tags": []
   },
   "outputs": [
    {
     "data": {
      "text/html": [
       "<div>\n",
       "<style scoped>\n",
       "    .dataframe tbody tr th:only-of-type {\n",
       "        vertical-align: middle;\n",
       "    }\n",
       "\n",
       "    .dataframe tbody tr th {\n",
       "        vertical-align: top;\n",
       "    }\n",
       "\n",
       "    .dataframe thead th {\n",
       "        text-align: right;\n",
       "    }\n",
       "</style>\n",
       "<table border=\"1\" class=\"dataframe\">\n",
       "  <thead>\n",
       "    <tr style=\"text-align: right;\">\n",
       "      <th></th>\n",
       "      <th>sentiment</th>\n",
       "      <th>text</th>\n",
       "    </tr>\n",
       "  </thead>\n",
       "  <tbody>\n",
       "    <tr>\n",
       "      <th>0</th>\n",
       "      <td>Negative</td>\n",
       "      <td>awww that s a bummer you shoulda got david car...</td>\n",
       "    </tr>\n",
       "    <tr>\n",
       "      <th>1</th>\n",
       "      <td>Negative</td>\n",
       "      <td>is upset that he can t update his facebook by ...</td>\n",
       "    </tr>\n",
       "    <tr>\n",
       "      <th>2</th>\n",
       "      <td>Negative</td>\n",
       "      <td>i dived many times for the ball managed to sav...</td>\n",
       "    </tr>\n",
       "    <tr>\n",
       "      <th>3</th>\n",
       "      <td>Negative</td>\n",
       "      <td>my whole body feels itchy and like its on fire</td>\n",
       "    </tr>\n",
       "    <tr>\n",
       "      <th>4</th>\n",
       "      <td>Negative</td>\n",
       "      <td>no it s not behaving at all i m mad why am i h...</td>\n",
       "    </tr>\n",
       "  </tbody>\n",
       "</table>\n",
       "</div>"
      ],
      "text/plain": [
       "  sentiment                                               text\n",
       "0  Negative  awww that s a bummer you shoulda got david car...\n",
       "1  Negative  is upset that he can t update his facebook by ...\n",
       "2  Negative  i dived many times for the ball managed to sav...\n",
       "3  Negative     my whole body feels itchy and like its on fire\n",
       "4  Negative  no it s not behaving at all i m mad why am i h..."
      ]
     },
     "execution_count": 13,
     "metadata": {},
     "output_type": "execute_result"
    }
   ],
   "source": [
    "df.head()"
   ]
  },
  {
   "cell_type": "code",
   "execution_count": 14,
   "metadata": {
    "execution": {
     "iopub.execute_input": "2024-12-18T09:10:55.584456Z",
     "iopub.status.busy": "2024-12-18T09:10:55.584053Z",
     "iopub.status.idle": "2024-12-18T09:10:55.597370Z",
     "shell.execute_reply": "2024-12-18T09:10:55.596668Z",
     "shell.execute_reply.started": "2024-12-18T09:10:55.584399Z"
    },
    "papermill": {
     "duration": 0.035062,
     "end_time": "2025-01-09T13:10:15.361524",
     "exception": false,
     "start_time": "2025-01-09T13:10:15.326462",
     "status": "completed"
    },
    "tags": []
   },
   "outputs": [
    {
     "data": {
      "text/plain": [
       "'# Count the number of words in each tweet\\ntweet_lengths = df.text.apply(lambda x: len(x.split()))\\n\\n# Plot the distribution\\nplt.figure(figsize=(10, 6))\\nplt.hist(tweet_lengths, bins=50, color=\\'blue\\', alpha=0.7)\\nplt.title(\"Distribution of Number of Words in Tweets\", fontsize=16)\\nplt.xlabel(\"Number of Words\", fontsize=14)\\nplt.ylabel(\"Frequency\", fontsize=14)\\nplt.grid(axis=\\'y\\', linestyle=\\'--\\', alpha=0.7)\\nplt.show()'"
      ]
     },
     "execution_count": 14,
     "metadata": {},
     "output_type": "execute_result"
    }
   ],
   "source": [
    "\n",
    "'''# Count the number of words in each tweet\n",
    "tweet_lengths = df.text.apply(lambda x: len(x.split()))\n",
    "\n",
    "# Plot the distribution\n",
    "plt.figure(figsize=(10, 6))\n",
    "plt.hist(tweet_lengths, bins=50, color='blue', alpha=0.7)\n",
    "plt.title(\"Distribution of Number of Words in Tweets\", fontsize=16)\n",
    "plt.xlabel(\"Number of Words\", fontsize=14)\n",
    "plt.ylabel(\"Frequency\", fontsize=14)\n",
    "plt.grid(axis='y', linestyle='--', alpha=0.7)\n",
    "plt.show()'''"
   ]
  },
  {
   "cell_type": "markdown",
   "metadata": {
    "papermill": {
     "duration": 0.02631,
     "end_time": "2025-01-09T13:10:15.414575",
     "exception": false,
     "start_time": "2025-01-09T13:10:15.388265",
     "status": "completed"
    },
    "tags": []
   },
   "source": [
    "## Train and Test Split"
   ]
  },
  {
   "cell_type": "code",
   "execution_count": 15,
   "metadata": {
    "execution": {
     "iopub.execute_input": "2024-12-18T09:10:55.598761Z",
     "iopub.status.busy": "2024-12-18T09:10:55.598465Z",
     "iopub.status.idle": "2024-12-18T09:10:55.609547Z",
     "shell.execute_reply": "2024-12-18T09:10:55.608894Z",
     "shell.execute_reply.started": "2024-12-18T09:10:55.598700Z"
    },
    "papermill": {
     "duration": 0.033791,
     "end_time": "2025-01-09T13:10:15.475017",
     "exception": false,
     "start_time": "2025-01-09T13:10:15.441226",
     "status": "completed"
    },
    "tags": []
   },
   "outputs": [],
   "source": [
    "TRAIN_SIZE = 0.8\n",
    "MAX_NB_WORDS = 100000\n",
    "MAX_SEQUENCE_LENGTH = 30"
   ]
  },
  {
   "cell_type": "code",
   "execution_count": 16,
   "metadata": {
    "execution": {
     "iopub.execute_input": "2024-12-18T09:10:55.611003Z",
     "iopub.status.busy": "2024-12-18T09:10:55.610742Z",
     "iopub.status.idle": "2024-12-18T09:10:56.076836Z",
     "shell.execute_reply": "2024-12-18T09:10:56.076078Z",
     "shell.execute_reply.started": "2024-12-18T09:10:55.610948Z"
    },
    "papermill": {
     "duration": 0.511994,
     "end_time": "2025-01-09T13:10:16.014764",
     "exception": false,
     "start_time": "2025-01-09T13:10:15.502770",
     "status": "completed"
    },
    "tags": []
   },
   "outputs": [
    {
     "name": "stdout",
     "output_type": "stream",
     "text": [
      "Train Data size: 1280000\n",
      "Test Data size 320000\n"
     ]
    }
   ],
   "source": [
    "train_data, test_data = train_test_split(df, test_size=1-TRAIN_SIZE,\n",
    "                                         random_state=0) # Splits Dataset into Training and Testing set\n",
    "print(\"Train Data size:\", len(train_data))\n",
    "print(\"Test Data size\", len(test_data))"
   ]
  },
  {
   "cell_type": "markdown",
   "metadata": {
    "papermill": {
     "duration": 0.027078,
     "end_time": "2025-01-09T13:10:16.069748",
     "exception": false,
     "start_time": "2025-01-09T13:10:16.042670",
     "status": "completed"
    },
    "tags": []
   },
   "source": [
    "`train_test_split` will shuffle the dataset and split it to gives training and testing dataset. It's important to shuffle our dataset before training."
   ]
  },
  {
   "cell_type": "code",
   "execution_count": 17,
   "metadata": {
    "execution": {
     "iopub.execute_input": "2024-12-18T09:10:56.078460Z",
     "iopub.status.busy": "2024-12-18T09:10:56.078163Z",
     "iopub.status.idle": "2024-12-18T09:10:56.087587Z",
     "shell.execute_reply": "2024-12-18T09:10:56.086649Z",
     "shell.execute_reply.started": "2024-12-18T09:10:56.078411Z"
    },
    "papermill": {
     "duration": 0.041859,
     "end_time": "2025-01-09T13:10:16.139529",
     "exception": false,
     "start_time": "2025-01-09T13:10:16.097670",
     "status": "completed"
    },
    "tags": []
   },
   "outputs": [
    {
     "data": {
      "text/html": [
       "<div>\n",
       "<style scoped>\n",
       "    .dataframe tbody tr th:only-of-type {\n",
       "        vertical-align: middle;\n",
       "    }\n",
       "\n",
       "    .dataframe tbody tr th {\n",
       "        vertical-align: top;\n",
       "    }\n",
       "\n",
       "    .dataframe thead th {\n",
       "        text-align: right;\n",
       "    }\n",
       "</style>\n",
       "<table border=\"1\" class=\"dataframe\">\n",
       "  <thead>\n",
       "    <tr style=\"text-align: right;\">\n",
       "      <th></th>\n",
       "      <th>sentiment</th>\n",
       "      <th>text</th>\n",
       "    </tr>\n",
       "  </thead>\n",
       "  <tbody>\n",
       "    <tr>\n",
       "      <th>1519669</th>\n",
       "      <td>Positive</td>\n",
       "      <td>thanks i like your pic as well</td>\n",
       "    </tr>\n",
       "    <tr>\n",
       "      <th>1245284</th>\n",
       "      <td>Positive</td>\n",
       "      <td>who wore it better cosgrovemirana or mileycyrus</td>\n",
       "    </tr>\n",
       "    <tr>\n",
       "      <th>1299040</th>\n",
       "      <td>Positive</td>\n",
       "      <td>can t get it to work as yet thinking there mus...</td>\n",
       "    </tr>\n",
       "    <tr>\n",
       "      <th>200654</th>\n",
       "      <td>Negative</td>\n",
       "      <td>hmm not sure if i know how to fill out a ticke...</td>\n",
       "    </tr>\n",
       "    <tr>\n",
       "      <th>699963</th>\n",
       "      <td>Negative</td>\n",
       "      <td>i m so sorry lots of peaceful healing vibes fo...</td>\n",
       "    </tr>\n",
       "    <tr>\n",
       "      <th>1275037</th>\n",
       "      <td>Positive</td>\n",
       "      <td>conan o brien yay love him</td>\n",
       "    </tr>\n",
       "    <tr>\n",
       "      <th>587150</th>\n",
       "      <td>Negative</td>\n",
       "      <td>at home doing some homework posted to my my si...</td>\n",
       "    </tr>\n",
       "    <tr>\n",
       "      <th>590999</th>\n",
       "      <td>Negative</td>\n",
       "      <td>brainsurgerysaywhatnow we just talked and you ...</td>\n",
       "    </tr>\n",
       "    <tr>\n",
       "      <th>1557221</th>\n",
       "      <td>Positive</td>\n",
       "      <td>ha ha he spanked you i love it ok so you gotta...</td>\n",
       "    </tr>\n",
       "    <tr>\n",
       "      <th>749832</th>\n",
       "      <td>Negative</td>\n",
       "      <td>my head hurts</td>\n",
       "    </tr>\n",
       "  </tbody>\n",
       "</table>\n",
       "</div>"
      ],
      "text/plain": [
       "        sentiment                                               text\n",
       "1519669  Positive                     thanks i like your pic as well\n",
       "1245284  Positive    who wore it better cosgrovemirana or mileycyrus\n",
       "1299040  Positive  can t get it to work as yet thinking there mus...\n",
       "200654   Negative  hmm not sure if i know how to fill out a ticke...\n",
       "699963   Negative  i m so sorry lots of peaceful healing vibes fo...\n",
       "1275037  Positive                         conan o brien yay love him\n",
       "587150   Negative  at home doing some homework posted to my my si...\n",
       "590999   Negative  brainsurgerysaywhatnow we just talked and you ...\n",
       "1557221  Positive  ha ha he spanked you i love it ok so you gotta...\n",
       "749832   Negative                                      my head hurts"
      ]
     },
     "execution_count": 17,
     "metadata": {},
     "output_type": "execute_result"
    }
   ],
   "source": [
    "train_data.head(10)"
   ]
  },
  {
   "cell_type": "markdown",
   "metadata": {
    "papermill": {
     "duration": 0.02811,
     "end_time": "2025-01-09T13:10:16.196200",
     "exception": false,
     "start_time": "2025-01-09T13:10:16.168090",
     "status": "completed"
    },
    "tags": []
   },
   "source": [
    "# Tokenization\n",
    "Given a character sequence and a defined document unit, tokenization is the task of chopping it up into pieces, called *tokens* , perhaps at the same time throwing away certain characters, such as punctuation. The process is called **Tokenization.**\n",
    "\n",
    "\n",
    "`tokenizer` create tokens for every word in the data corpus and map them to a index using dictionary.\n",
    "\n",
    "`word_index` contains the index for each word\n",
    "\n",
    "`vocab_size` represents the total number of word in the data corpus"
   ]
  },
  {
   "cell_type": "code",
   "execution_count": 18,
   "metadata": {
    "execution": {
     "iopub.execute_input": "2024-12-18T09:10:56.089486Z",
     "iopub.status.busy": "2024-12-18T09:10:56.089141Z",
     "iopub.status.idle": "2024-12-18T09:11:18.515405Z",
     "shell.execute_reply": "2024-12-18T09:11:18.514617Z",
     "shell.execute_reply.started": "2024-12-18T09:10:56.089444Z"
    },
    "papermill": {
     "duration": 22.633029,
     "end_time": "2025-01-09T13:10:38.857473",
     "exception": false,
     "start_time": "2025-01-09T13:10:16.224444",
     "status": "completed"
    },
    "tags": []
   },
   "outputs": [
    {
     "name": "stderr",
     "output_type": "stream",
     "text": [
      "Using TensorFlow backend.\n"
     ]
    },
    {
     "name": "stdout",
     "output_type": "stream",
     "text": [
      "Vocabulary Size : 276577\n"
     ]
    }
   ],
   "source": [
    "from keras.preprocessing.text import Tokenizer\n",
    "\n",
    "tokenizer = Tokenizer()\n",
    "tokenizer.fit_on_texts(train_data.text)\n",
    "\n",
    "word_index = tokenizer.word_index\n",
    "vocab_size = len(tokenizer.word_index) + 1\n",
    "print(\"Vocabulary Size :\", vocab_size)"
   ]
  },
  {
   "cell_type": "markdown",
   "metadata": {
    "papermill": {
     "duration": 0.027015,
     "end_time": "2025-01-09T13:10:38.912873",
     "exception": false,
     "start_time": "2025-01-09T13:10:38.885858",
     "status": "completed"
    },
    "tags": []
   },
   "source": [
    "Now we got a `tokenizer` object, which can be used to covert any word into a Key in dictionary (number).\n",
    "\n",
    "Since we are going to build a sequence model. We should feed in a sequence of numbers to it. And also we should ensure there is no variance in input shapes of sequences. It all should be of same lenght. But texts in tweets have different count of words in it. To avoid this, we seek a little help from `pad_sequence` to do our job. It will make all the sequence in one constant length `MAX_SEQUENCE_LENGTH`."
   ]
  },
  {
   "cell_type": "code",
   "execution_count": 19,
   "metadata": {
    "execution": {
     "iopub.execute_input": "2024-12-18T09:11:18.517038Z",
     "iopub.status.busy": "2024-12-18T09:11:18.516754Z",
     "iopub.status.idle": "2024-12-18T09:11:48.598645Z",
     "shell.execute_reply": "2024-12-18T09:11:48.597810Z",
     "shell.execute_reply.started": "2024-12-18T09:11:18.516987Z"
    },
    "papermill": {
     "duration": 30.263122,
     "end_time": "2025-01-09T13:11:09.203787",
     "exception": false,
     "start_time": "2025-01-09T13:10:38.940665",
     "status": "completed"
    },
    "tags": []
   },
   "outputs": [
    {
     "name": "stdout",
     "output_type": "stream",
     "text": [
      "Training X Shape: (1280000, 30)\n",
      "Testing X Shape: (320000, 30)\n"
     ]
    }
   ],
   "source": [
    "from keras.preprocessing.sequence import pad_sequences\n",
    "\n",
    "x_train = pad_sequences(tokenizer.texts_to_sequences(train_data.text),\n",
    "                        maxlen = MAX_SEQUENCE_LENGTH)\n",
    "x_test = pad_sequences(tokenizer.texts_to_sequences(test_data.text),\n",
    "                       maxlen = MAX_SEQUENCE_LENGTH)\n",
    "\n",
    "print(\"Training X Shape:\",x_train.shape)\n",
    "print(\"Testing X Shape:\",x_test.shape)"
   ]
  },
  {
   "cell_type": "code",
   "execution_count": 20,
   "metadata": {
    "execution": {
     "iopub.execute_input": "2024-12-18T09:11:48.600481Z",
     "iopub.status.busy": "2024-12-18T09:11:48.600042Z",
     "iopub.status.idle": "2024-12-18T09:11:48.662698Z",
     "shell.execute_reply": "2024-12-18T09:11:48.662041Z",
     "shell.execute_reply.started": "2024-12-18T09:11:48.600409Z"
    },
    "papermill": {
     "duration": 0.092829,
     "end_time": "2025-01-09T13:11:09.324877",
     "exception": false,
     "start_time": "2025-01-09T13:11:09.232048",
     "status": "completed"
    },
    "tags": []
   },
   "outputs": [],
   "source": [
    "labels = train_data.sentiment.unique().tolist()"
   ]
  },
  {
   "cell_type": "markdown",
   "metadata": {
    "papermill": {
     "duration": 0.027807,
     "end_time": "2025-01-09T13:11:09.381199",
     "exception": false,
     "start_time": "2025-01-09T13:11:09.353392",
     "status": "completed"
    },
    "tags": []
   },
   "source": [
    "### Label Encoding \n",
    "We are building the model to predict class in enocoded form (0 or 1 as this is a binary classification). We should encode our training labels to encodings."
   ]
  },
  {
   "cell_type": "code",
   "execution_count": 21,
   "metadata": {
    "execution": {
     "iopub.execute_input": "2024-12-18T09:11:48.663936Z",
     "iopub.status.busy": "2024-12-18T09:11:48.663698Z",
     "iopub.status.idle": "2024-12-18T09:11:49.358480Z",
     "shell.execute_reply": "2024-12-18T09:11:49.357544Z",
     "shell.execute_reply.started": "2024-12-18T09:11:48.663899Z"
    },
    "papermill": {
     "duration": 0.794379,
     "end_time": "2025-01-09T13:11:10.244399",
     "exception": false,
     "start_time": "2025-01-09T13:11:09.450020",
     "status": "completed"
    },
    "tags": []
   },
   "outputs": [
    {
     "name": "stdout",
     "output_type": "stream",
     "text": [
      "y_train shape: (1280000, 1)\n",
      "y_test shape: (320000, 1)\n"
     ]
    }
   ],
   "source": [
    "encoder = LabelEncoder()\n",
    "encoder.fit(train_data.sentiment.to_list())\n",
    "\n",
    "y_train = encoder.transform(train_data.sentiment.to_list())\n",
    "y_test = encoder.transform(test_data.sentiment.to_list())\n",
    "\n",
    "y_train = y_train.reshape(-1,1)\n",
    "y_test = y_test.reshape(-1,1)\n",
    "\n",
    "print(\"y_train shape:\", y_train.shape)\n",
    "print(\"y_test shape:\", y_test.shape)"
   ]
  },
  {
   "cell_type": "markdown",
   "metadata": {
    "papermill": {
     "duration": 0.028324,
     "end_time": "2025-01-09T13:11:10.301787",
     "exception": false,
     "start_time": "2025-01-09T13:11:10.273463",
     "status": "completed"
    },
    "tags": []
   },
   "source": [
    "# Word Emdedding\n",
    "In Language Model, words are represented in a way to intend more meaning and for learning the patterns and contextual meaning behind it. \n",
    "\n",
    "**Word Embedding** is one of the popular representation of document vocabulary.It is capable of capturing context of a word in a document, semantic and syntactic similarity, relation with other words, etc.\n",
    "\n",
    "Basically, it's a feature vector representation of words which are used for other natural language processing applications.\n",
    "\n",
    "We could train the embedding ourselves but that would take a while to train and it wouldn't be effective. So going in the path of Computer Vision, here we use **Transfer Learning**. We download the pre-trained embedding and use it in our model.\n",
    "\n",
    "The pretrained Word Embedding like **GloVe & Word2Vec** gives more insights for a word which can be used for classification. If you want to learn more about the Word Embedding, please refer some links that I left at the end of this notebook.\n",
    "\n",
    "\n",
    "In this notebook, I use **GloVe Embedding from Stanford AI** which can be found [here](https://nlp.stanford.edu/projects/glove/)"
   ]
  },
  {
   "cell_type": "code",
   "execution_count": 22,
   "metadata": {
    "execution": {
     "iopub.execute_input": "2024-12-18T09:11:49.359946Z",
     "iopub.status.busy": "2024-12-18T09:11:49.359694Z",
     "iopub.status.idle": "2024-12-18T09:17:15.302736Z",
     "shell.execute_reply": "2024-12-18T09:17:15.301866Z",
     "shell.execute_reply.started": "2024-12-18T09:11:49.359898Z"
    },
    "papermill": {
     "duration": 343.257074,
     "end_time": "2025-01-09T13:16:53.588319",
     "exception": false,
     "start_time": "2025-01-09T13:11:10.331245",
     "status": "completed"
    },
    "tags": []
   },
   "outputs": [
    {
     "name": "stdout",
     "output_type": "stream",
     "text": [
      "--2025-01-09 13:11:11--  https://nlp.stanford.edu/data/glove.twitter.27B.zip\r\n",
      "Resolving nlp.stanford.edu (nlp.stanford.edu)... 171.64.67.140\r\n",
      "Connecting to nlp.stanford.edu (nlp.stanford.edu)|171.64.67.140|:443... connected.\r\n",
      "HTTP request sent, awaiting response... 301 Moved Permanently\r\n",
      "Location: https://downloads.cs.stanford.edu/nlp/data/glove.twitter.27B.zip [following]\r\n",
      "--2025-01-09 13:11:11--  https://downloads.cs.stanford.edu/nlp/data/glove.twitter.27B.zip\r\n",
      "Resolving downloads.cs.stanford.edu (downloads.cs.stanford.edu)... 171.64.64.22\r\n",
      "Connecting to downloads.cs.stanford.edu (downloads.cs.stanford.edu)|171.64.64.22|:443... connected.\r\n",
      "HTTP request sent, awaiting response... 200 OK\r\n",
      "Length: 1520408563 (1.4G) [application/zip]\r\n",
      "Saving to: ‘glove.twitter.27B.zip’\r\n",
      "\r\n",
      "glove.twitter.27B.z  80%[===============>    ]   1.14G  5.10MB/s    eta 58s    "
     ]
    }
   ],
   "source": [
    "!wget https://nlp.stanford.edu/data/glove.twitter.27B.zip\n",
    "!unzip glove.twitter.27B.zip"
   ]
  },
  {
   "cell_type": "code",
   "execution_count": null,
   "metadata": {
    "execution": {
     "iopub.execute_input": "2024-12-18T09:17:15.304481Z",
     "iopub.status.busy": "2024-12-18T09:17:15.304200Z",
     "iopub.status.idle": "2024-12-18T09:17:15.309229Z",
     "shell.execute_reply": "2024-12-18T09:17:15.308100Z",
     "shell.execute_reply.started": "2024-12-18T09:17:15.304437Z"
    },
    "papermill": {
     "duration": 4.272306,
     "end_time": "2025-01-09T13:16:58.124325",
     "exception": false,
     "start_time": "2025-01-09T13:16:53.852019",
     "status": "completed"
    },
    "tags": []
   },
   "outputs": [],
   "source": [
    "GLOVE_EMB = '/kaggle/working/glove.twitter.27B.100d.txt'\n",
    "EMBEDDING_DIM = 100\n",
    "LR = 1e-3\n",
    "BATCH_SIZE = 1024\n",
    "EPOCHS = 10\n",
    "MODEL_PATH = '.../output/kaggle/working/best_model.hdf5'"
   ]
  },
  {
   "cell_type": "code",
   "execution_count": null,
   "metadata": {
    "papermill": {
     "duration": 0.250437,
     "end_time": "2025-01-09T13:16:58.625486",
     "exception": false,
     "start_time": "2025-01-09T13:16:58.375049",
     "status": "completed"
    },
    "tags": []
   },
   "outputs": [],
   "source": []
  },
  {
   "cell_type": "code",
   "execution_count": null,
   "metadata": {
    "execution": {
     "iopub.execute_input": "2024-12-18T09:17:15.310549Z",
     "iopub.status.busy": "2024-12-18T09:17:15.310287Z",
     "iopub.status.idle": "2024-12-18T09:17:49.865447Z",
     "shell.execute_reply": "2024-12-18T09:17:49.864575Z",
     "shell.execute_reply.started": "2024-12-18T09:17:15.310501Z"
    },
    "papermill": {
     "duration": 39.293243,
     "end_time": "2025-01-09T13:17:38.167685",
     "exception": false,
     "start_time": "2025-01-09T13:16:58.874442",
     "status": "completed"
    },
    "tags": []
   },
   "outputs": [],
   "source": [
    "embeddings_index = {}\n",
    "\n",
    "f = open(GLOVE_EMB)\n",
    "for line in f:\n",
    "  values = line.split()\n",
    "  word = value = values[0]\n",
    "  coefs = np.asarray(values[1:], dtype='float32')\n",
    "  embeddings_index[word] = coefs\n",
    "f.close()\n",
    "\n",
    "print('Found %s word vectors.' %len(embeddings_index))"
   ]
  },
  {
   "cell_type": "code",
   "execution_count": 25,
   "metadata": {
    "execution": {
     "iopub.execute_input": "2024-12-18T09:17:49.866873Z",
     "iopub.status.busy": "2024-12-18T09:17:49.866638Z",
     "iopub.status.idle": "2024-12-18T09:17:50.282060Z",
     "shell.execute_reply": "2024-12-18T09:17:50.281408Z",
     "shell.execute_reply.started": "2024-12-18T09:17:49.866834Z"
    },
    "papermill": {
     "duration": 3.163813,
     "end_time": "2025-01-09T13:17:41.634313",
     "exception": false,
     "start_time": "2025-01-09T13:17:38.470500",
     "status": "completed"
    },
    "tags": []
   },
   "outputs": [],
   "source": [
    "embedding_matrix = np.zeros((vocab_size, EMBEDDING_DIM))\n",
    "for word, i in word_index.items():\n",
    "  embedding_vector = embeddings_index.get(word)\n",
    "  if embedding_vector is not None:\n",
    "    embedding_matrix[i] = embedding_vector"
   ]
  },
  {
   "cell_type": "code",
   "execution_count": 26,
   "metadata": {
    "execution": {
     "iopub.execute_input": "2024-12-18T09:17:50.283428Z",
     "iopub.status.busy": "2024-12-18T09:17:50.283147Z",
     "iopub.status.idle": "2024-12-18T09:17:50.292380Z",
     "shell.execute_reply": "2024-12-18T09:17:50.291728Z",
     "shell.execute_reply.started": "2024-12-18T09:17:50.283387Z"
    },
    "papermill": {
     "duration": 0.267894,
     "end_time": "2025-01-09T13:17:42.155531",
     "exception": false,
     "start_time": "2025-01-09T13:17:41.887637",
     "status": "completed"
    },
    "tags": []
   },
   "outputs": [],
   "source": [
    "embedding_layer = tf.keras.layers.Embedding(vocab_size,\n",
    "                                          EMBEDDING_DIM,\n",
    "                                          weights=[embedding_matrix],\n",
    "                                          input_length=MAX_SEQUENCE_LENGTH,\n",
    "                                          trainable=False)"
   ]
  },
  {
   "cell_type": "markdown",
   "metadata": {
    "papermill": {
     "duration": 0.249203,
     "end_time": "2025-01-09T13:17:42.655707",
     "exception": false,
     "start_time": "2025-01-09T13:17:42.406504",
     "status": "completed"
    },
    "tags": []
   },
   "source": [
    "# Model Training - LSTM\n",
    "\n",
    "Reccurent Neural Networks can handle a seqence of data and learn a pattern of input seqence to give either sequence or scalar value as output. In our case, the Neural Network outputs a scalar value prediction. \n",
    "\n",
    "For model architecture, we use\n",
    "\n",
    "1) **Embedding Layer** - Generates Embedding Vector for each input sequence.\n",
    "\n",
    "2) **Conv1D Layer** - Its using to convolve data into smaller feature vectors. \n",
    "\n",
    "3) **LSTM** - Long Short Term Memory, its a variant of RNN which has memory state cell to learn the context of words which are at further along the text to carry contextual meaning rather than just neighbouring words as in case of RNN.\n",
    "\n",
    "4) **Dense** - Fully Connected Layers for classification\n"
   ]
  },
  {
   "cell_type": "code",
   "execution_count": 27,
   "metadata": {
    "execution": {
     "iopub.execute_input": "2024-12-18T09:17:50.293842Z",
     "iopub.status.busy": "2024-12-18T09:17:50.293456Z",
     "iopub.status.idle": "2024-12-18T09:17:50.311616Z",
     "shell.execute_reply": "2024-12-18T09:17:50.311027Z",
     "shell.execute_reply.started": "2024-12-18T09:17:50.293789Z"
    },
    "papermill": {
     "duration": 0.27564,
     "end_time": "2025-01-09T13:17:43.180502",
     "exception": false,
     "start_time": "2025-01-09T13:17:42.904862",
     "status": "completed"
    },
    "tags": []
   },
   "outputs": [],
   "source": [
    "from tensorflow.keras.layers import Conv1D, Bidirectional, LSTM, Dense, Input, Dropout\n",
    "from tensorflow.keras.layers import SpatialDropout1D\n",
    "from tensorflow.keras.callbacks import ModelCheckpoint"
   ]
  },
  {
   "cell_type": "code",
   "execution_count": 28,
   "metadata": {
    "execution": {
     "iopub.execute_input": "2024-12-18T09:17:50.312758Z",
     "iopub.status.busy": "2024-12-18T09:17:50.312547Z",
     "iopub.status.idle": "2024-12-18T09:17:50.317550Z",
     "shell.execute_reply": "2024-12-18T09:17:50.316724Z",
     "shell.execute_reply.started": "2024-12-18T09:17:50.312725Z"
    },
    "papermill": {
     "duration": 0.263468,
     "end_time": "2025-01-09T13:17:43.699298",
     "exception": false,
     "start_time": "2025-01-09T13:17:43.435830",
     "status": "completed"
    },
    "tags": []
   },
   "outputs": [],
   "source": [
    "from tensorflow.keras.optimizers import Adam"
   ]
  },
  {
   "cell_type": "code",
   "execution_count": 29,
   "metadata": {
    "execution": {
     "iopub.execute_input": "2024-12-18T09:17:50.319402Z",
     "iopub.status.busy": "2024-12-18T09:17:50.319037Z",
     "iopub.status.idle": "2024-12-18T09:17:50.327867Z",
     "shell.execute_reply": "2024-12-18T09:17:50.327062Z",
     "shell.execute_reply.started": "2024-12-18T09:17:50.319347Z"
    },
    "papermill": {
     "duration": 0.271265,
     "end_time": "2025-01-09T13:17:44.222585",
     "exception": false,
     "start_time": "2025-01-09T13:17:43.951320",
     "status": "completed"
    },
    "tags": []
   },
   "outputs": [],
   "source": [
    "\n",
    "from tensorflow.keras.layers import Layer\n",
    "\n",
    "class Attention(Layer):\n",
    "    def __init__(self, **kwargs):\n",
    "        super(Attention, self).__init__(**kwargs)\n",
    "\n",
    "    def build(self, input_shape):\n",
    "        self.W = self.add_weight(shape=(input_shape[-1], input_shape[-1]),\n",
    "                                 initializer=\"glorot_uniform\",\n",
    "                                 trainable=True)\n",
    "        self.b = self.add_weight(shape=(input_shape[-1],),\n",
    "                                 initializer=\"zeros\",\n",
    "                                 trainable=True)\n",
    "        self.u = self.add_weight(shape=(input_shape[-1], 1),\n",
    "                                 initializer=\"glorot_uniform\",\n",
    "                                 trainable=True)\n",
    "        super(Attention, self).build(input_shape)\n",
    "\n",
    "    def call(self, inputs):\n",
    "        # Score computation\n",
    "        score = tf.nn.tanh(tf.tensordot(inputs, self.W, axes=1) + self.b)\n",
    "        attention_weights = tf.nn.softmax(tf.tensordot(score, self.u, axes=1), axis=1)\n",
    "        \n",
    "        # Apply attention weights to inputs\n",
    "        context_vector = attention_weights * inputs\n",
    "        context_vector = tf.reduce_sum(context_vector, axis=1)\n",
    "        return context_vector\n"
   ]
  },
  {
   "cell_type": "markdown",
   "metadata": {
    "papermill": {
     "duration": 0.247533,
     "end_time": "2025-01-09T13:17:44.720740",
     "exception": false,
     "start_time": "2025-01-09T13:17:44.473207",
     "status": "completed"
    },
    "tags": []
   },
   "source": [
    "# grid search"
   ]
  },
  {
   "cell_type": "code",
   "execution_count": null,
   "metadata": {
    "papermill": {
     "duration": 0.251693,
     "end_time": "2025-01-09T13:17:45.220614",
     "exception": false,
     "start_time": "2025-01-09T13:17:44.968921",
     "status": "completed"
    },
    "tags": []
   },
   "outputs": [],
   "source": []
  },
  {
   "cell_type": "code",
   "execution_count": 30,
   "metadata": {
    "execution": {
     "iopub.execute_input": "2024-12-18T09:17:50.329063Z",
     "iopub.status.busy": "2024-12-18T09:17:50.328837Z",
     "iopub.status.idle": "2024-12-18T09:17:50.338931Z",
     "shell.execute_reply": "2024-12-18T09:17:50.338218Z",
     "shell.execute_reply.started": "2024-12-18T09:17:50.329029Z"
    },
    "papermill": {
     "duration": 0.257966,
     "end_time": "2025-01-09T13:17:45.730770",
     "exception": false,
     "start_time": "2025-01-09T13:17:45.472804",
     "status": "completed"
    },
    "tags": []
   },
   "outputs": [],
   "source": [
    "def build_model(lstm_units, dropout_rate, learning_rate):\n",
    "    sequence_input = Input(shape=(MAX_SEQUENCE_LENGTH,), dtype='int32')\n",
    "    embedding_sequences = embedding_layer(sequence_input)\n",
    "    x = SpatialDropout1D(0.2)(embedding_sequences)\n",
    "    x = Conv1D(64, 5, activation='relu')(x)\n",
    "    x = Bidirectional(LSTM(lstm_units, dropout=dropout_rate, recurrent_dropout=0.2, return_sequences=True))(x)\n",
    "    \n",
    "    # Add attention mechanism\n",
    "    x = Attention()(x)\n",
    "    \n",
    "    x = Dense(512, activation='relu')(x)\n",
    "    x = Dropout(dropout_rate)(x)\n",
    "    outputs = Dense(1, activation='sigmoid')(x)\n",
    "\n",
    "    model = tf.keras.Model(sequence_input, outputs)\n",
    "    model.compile(optimizer=Adam(learning_rate=learning_rate), loss='binary_crossentropy', metrics=['accuracy'])\n",
    "    return model"
   ]
  },
  {
   "cell_type": "code",
   "execution_count": 31,
   "metadata": {
    "execution": {
     "iopub.execute_input": "2024-12-18T09:17:50.340413Z",
     "iopub.status.busy": "2024-12-18T09:17:50.340056Z",
     "iopub.status.idle": "2024-12-18T09:17:50.351863Z",
     "shell.execute_reply": "2024-12-18T09:17:50.351081Z",
     "shell.execute_reply.started": "2024-12-18T09:17:50.340373Z"
    },
    "papermill": {
     "duration": 0.265998,
     "end_time": "2025-01-09T13:17:46.245349",
     "exception": false,
     "start_time": "2025-01-09T13:17:45.979351",
     "status": "completed"
    },
    "tags": []
   },
   "outputs": [],
   "source": [
    "# from grid search previously\n",
    "best_batch_size, best_learning_rate, best_lstm_units, best_dropout_rate = 512,0.001,128,0.2"
   ]
  },
  {
   "cell_type": "code",
   "execution_count": 32,
   "metadata": {
    "execution": {
     "iopub.execute_input": "2024-12-18T09:17:50.353538Z",
     "iopub.status.busy": "2024-12-18T09:17:50.353150Z",
     "iopub.status.idle": "2024-12-18T09:17:50.363032Z",
     "shell.execute_reply": "2024-12-18T09:17:50.362506Z",
     "shell.execute_reply.started": "2024-12-18T09:17:50.353482Z"
    },
    "papermill": {
     "duration": 0.260403,
     "end_time": "2025-01-09T13:17:46.763305",
     "exception": false,
     "start_time": "2025-01-09T13:17:46.502902",
     "status": "completed"
    },
    "tags": []
   },
   "outputs": [],
   "source": [
    "from tensorflow.keras.layers import GlobalMaxPooling1D"
   ]
  },
  {
   "cell_type": "code",
   "execution_count": 33,
   "metadata": {
    "execution": {
     "iopub.execute_input": "2024-12-18T09:17:50.364537Z",
     "iopub.status.busy": "2024-12-18T09:17:50.364287Z"
    },
    "papermill": {
     "duration": 11487.93243,
     "end_time": "2025-01-09T16:29:14.944927",
     "exception": false,
     "start_time": "2025-01-09T13:17:47.012497",
     "status": "completed"
    },
    "tags": []
   },
   "outputs": [
    {
     "name": "stdout",
     "output_type": "stream",
     "text": [
      "Train on 1280000 samples, validate on 320000 samples\n",
      "Epoch 1/75\n",
      "1280000/1280000 - 162s - loss: 0.4705 - accuracy: 0.7732 - val_loss: 0.4203 - val_accuracy: 0.8069\n",
      "Epoch 2/75\n",
      "1280000/1280000 - 153s - loss: 0.4309 - accuracy: 0.7990 - val_loss: 0.4089 - val_accuracy: 0.8125\n",
      "Epoch 3/75\n",
      "1280000/1280000 - 153s - loss: 0.4187 - accuracy: 0.8063 - val_loss: 0.3957 - val_accuracy: 0.8194\n",
      "Epoch 4/75\n",
      "1280000/1280000 - 153s - loss: 0.4113 - accuracy: 0.8104 - val_loss: 0.3907 - val_accuracy: 0.8225\n",
      "Epoch 5/75\n",
      "1280000/1280000 - 153s - loss: 0.4054 - accuracy: 0.8141 - val_loss: 0.3860 - val_accuracy: 0.8247\n",
      "Epoch 6/75\n",
      "1280000/1280000 - 152s - loss: 0.4015 - accuracy: 0.8163 - val_loss: 0.3839 - val_accuracy: 0.8253\n",
      "Epoch 7/75\n",
      "1280000/1280000 - 153s - loss: 0.3978 - accuracy: 0.8183 - val_loss: 0.3807 - val_accuracy: 0.8279\n",
      "Epoch 8/75\n",
      "1280000/1280000 - 152s - loss: 0.3948 - accuracy: 0.8201 - val_loss: 0.3799 - val_accuracy: 0.8291\n",
      "Epoch 9/75\n",
      "1280000/1280000 - 152s - loss: 0.3927 - accuracy: 0.8213 - val_loss: 0.3765 - val_accuracy: 0.8306\n",
      "Epoch 10/75\n",
      "1280000/1280000 - 153s - loss: 0.3903 - accuracy: 0.8226 - val_loss: 0.3762 - val_accuracy: 0.8309\n",
      "Epoch 11/75\n",
      "1280000/1280000 - 153s - loss: 0.3886 - accuracy: 0.8235 - val_loss: 0.3748 - val_accuracy: 0.8320\n",
      "Epoch 12/75\n",
      "1280000/1280000 - 152s - loss: 0.3869 - accuracy: 0.8243 - val_loss: 0.3749 - val_accuracy: 0.8311\n",
      "Epoch 13/75\n",
      "1280000/1280000 - 153s - loss: 0.3860 - accuracy: 0.8249 - val_loss: 0.3745 - val_accuracy: 0.8327\n",
      "Epoch 14/75\n",
      "1280000/1280000 - 153s - loss: 0.3841 - accuracy: 0.8261 - val_loss: 0.3719 - val_accuracy: 0.8336\n",
      "Epoch 15/75\n",
      "1280000/1280000 - 154s - loss: 0.3833 - accuracy: 0.8265 - val_loss: 0.3752 - val_accuracy: 0.8338\n",
      "Epoch 16/75\n",
      "1280000/1280000 - 154s - loss: 0.3822 - accuracy: 0.8270 - val_loss: 0.3699 - val_accuracy: 0.8340\n",
      "Epoch 17/75\n",
      "1280000/1280000 - 154s - loss: 0.3811 - accuracy: 0.8278 - val_loss: 0.3741 - val_accuracy: 0.8347\n",
      "Epoch 18/75\n",
      "1280000/1280000 - 153s - loss: 0.3804 - accuracy: 0.8279 - val_loss: 0.3760 - val_accuracy: 0.8342\n",
      "Epoch 19/75\n",
      "1280000/1280000 - 153s - loss: 0.3793 - accuracy: 0.8286 - val_loss: 0.3693 - val_accuracy: 0.8353\n",
      "Epoch 20/75\n",
      "1280000/1280000 - 153s - loss: 0.3788 - accuracy: 0.8290 - val_loss: 0.3701 - val_accuracy: 0.8353\n",
      "Epoch 21/75\n",
      "1280000/1280000 - 153s - loss: 0.3785 - accuracy: 0.8289 - val_loss: 0.3667 - val_accuracy: 0.8367\n",
      "Epoch 22/75\n",
      "1280000/1280000 - 153s - loss: 0.3778 - accuracy: 0.8296 - val_loss: 0.3687 - val_accuracy: 0.8367\n",
      "Epoch 23/75\n",
      "1280000/1280000 - 153s - loss: 0.3768 - accuracy: 0.8301 - val_loss: 0.3690 - val_accuracy: 0.8355\n",
      "Epoch 24/75\n",
      "1280000/1280000 - 153s - loss: 0.3764 - accuracy: 0.8306 - val_loss: 0.3685 - val_accuracy: 0.8368\n",
      "Epoch 25/75\n",
      "1280000/1280000 - 153s - loss: 0.3761 - accuracy: 0.8306 - val_loss: 0.3681 - val_accuracy: 0.8355\n",
      "Epoch 26/75\n",
      "1280000/1280000 - 155s - loss: 0.3761 - accuracy: 0.8304 - val_loss: 0.3661 - val_accuracy: 0.8374\n",
      "Epoch 27/75\n",
      "1280000/1280000 - 154s - loss: 0.3749 - accuracy: 0.8311 - val_loss: 0.3701 - val_accuracy: 0.8367\n",
      "Epoch 28/75\n",
      "1280000/1280000 - 153s - loss: 0.3742 - accuracy: 0.8313 - val_loss: 0.3686 - val_accuracy: 0.8364\n",
      "Epoch 29/75\n",
      "1280000/1280000 - 153s - loss: 0.3736 - accuracy: 0.8316 - val_loss: 0.3681 - val_accuracy: 0.8374\n",
      "Epoch 30/75\n",
      "1280000/1280000 - 153s - loss: 0.3733 - accuracy: 0.8318 - val_loss: 0.3671 - val_accuracy: 0.8380\n",
      "Epoch 31/75\n",
      "1280000/1280000 - 153s - loss: 0.3731 - accuracy: 0.8320 - val_loss: 0.3663 - val_accuracy: 0.8375\n",
      "Epoch 32/75\n",
      "1280000/1280000 - 153s - loss: 0.3728 - accuracy: 0.8319 - val_loss: 0.3643 - val_accuracy: 0.8381\n",
      "Epoch 33/75\n",
      "1280000/1280000 - 153s - loss: 0.3722 - accuracy: 0.8327 - val_loss: 0.3697 - val_accuracy: 0.8375\n",
      "Epoch 34/75\n",
      "1280000/1280000 - 153s - loss: 0.3719 - accuracy: 0.8327 - val_loss: 0.3649 - val_accuracy: 0.8379\n",
      "Epoch 35/75\n",
      "1280000/1280000 - 153s - loss: 0.3713 - accuracy: 0.8329 - val_loss: 0.3640 - val_accuracy: 0.8382\n",
      "Epoch 36/75\n",
      "1280000/1280000 - 153s - loss: 0.3710 - accuracy: 0.8332 - val_loss: 0.3652 - val_accuracy: 0.8374\n",
      "Epoch 37/75\n",
      "1280000/1280000 - 153s - loss: 0.3707 - accuracy: 0.8333 - val_loss: 0.3648 - val_accuracy: 0.8373\n",
      "Epoch 38/75\n",
      "1280000/1280000 - 152s - loss: 0.3704 - accuracy: 0.8338 - val_loss: 0.3639 - val_accuracy: 0.8386\n",
      "Epoch 39/75\n",
      "1280000/1280000 - 152s - loss: 0.3702 - accuracy: 0.8335 - val_loss: 0.3647 - val_accuracy: 0.8386\n",
      "Epoch 40/75\n",
      "1280000/1280000 - 152s - loss: 0.3699 - accuracy: 0.8338 - val_loss: 0.3673 - val_accuracy: 0.8374\n",
      "Epoch 41/75\n",
      "1280000/1280000 - 152s - loss: 0.3695 - accuracy: 0.8340 - val_loss: 0.3661 - val_accuracy: 0.8379\n",
      "Epoch 42/75\n",
      "1280000/1280000 - 153s - loss: 0.3694 - accuracy: 0.8340 - val_loss: 0.3665 - val_accuracy: 0.8390\n",
      "Epoch 43/75\n",
      "1280000/1280000 - 152s - loss: 0.3688 - accuracy: 0.8342 - val_loss: 0.3642 - val_accuracy: 0.8379\n",
      "Epoch 44/75\n",
      "1280000/1280000 - 152s - loss: 0.3688 - accuracy: 0.8343 - val_loss: 0.3634 - val_accuracy: 0.8385\n",
      "Epoch 45/75\n",
      "1280000/1280000 - 153s - loss: 0.3685 - accuracy: 0.8345 - val_loss: 0.3677 - val_accuracy: 0.8376\n",
      "Epoch 46/75\n",
      "1280000/1280000 - 153s - loss: 0.3681 - accuracy: 0.8348 - val_loss: 0.3671 - val_accuracy: 0.8393\n",
      "Epoch 47/75\n",
      "1280000/1280000 - 153s - loss: 0.3680 - accuracy: 0.8347 - val_loss: 0.3652 - val_accuracy: 0.8395\n",
      "Epoch 48/75\n",
      "1280000/1280000 - 153s - loss: 0.3678 - accuracy: 0.8349 - val_loss: 0.3676 - val_accuracy: 0.8393\n",
      "Epoch 49/75\n",
      "1280000/1280000 - 154s - loss: 0.3678 - accuracy: 0.8352 - val_loss: 0.3650 - val_accuracy: 0.8394\n",
      "Epoch 50/75\n",
      "1280000/1280000 - 153s - loss: 0.3673 - accuracy: 0.8350 - val_loss: 0.3640 - val_accuracy: 0.8390\n",
      "Epoch 51/75\n",
      "1280000/1280000 - 154s - loss: 0.3668 - accuracy: 0.8356 - val_loss: 0.3636 - val_accuracy: 0.8383\n",
      "Epoch 52/75\n",
      "1280000/1280000 - 154s - loss: 0.3673 - accuracy: 0.8353 - val_loss: 0.3670 - val_accuracy: 0.8377\n",
      "Epoch 53/75\n",
      "1280000/1280000 - 153s - loss: 0.3664 - accuracy: 0.8356 - val_loss: 0.3626 - val_accuracy: 0.8395\n",
      "Epoch 54/75\n",
      "1280000/1280000 - 154s - loss: 0.3664 - accuracy: 0.8358 - val_loss: 0.3644 - val_accuracy: 0.8381\n",
      "Epoch 55/75\n",
      "1280000/1280000 - 153s - loss: 0.3662 - accuracy: 0.8359 - val_loss: 0.3634 - val_accuracy: 0.8397\n",
      "Epoch 56/75\n",
      "1280000/1280000 - 153s - loss: 0.3657 - accuracy: 0.8359 - val_loss: 0.3653 - val_accuracy: 0.8382\n",
      "Epoch 57/75\n",
      "1280000/1280000 - 153s - loss: 0.3657 - accuracy: 0.8358 - val_loss: 0.3622 - val_accuracy: 0.8397\n",
      "Epoch 58/75\n",
      "1280000/1280000 - 153s - loss: 0.3657 - accuracy: 0.8361 - val_loss: 0.3626 - val_accuracy: 0.8390\n",
      "Epoch 59/75\n",
      "1280000/1280000 - 152s - loss: 0.3655 - accuracy: 0.8357 - val_loss: 0.3622 - val_accuracy: 0.8397\n",
      "Epoch 60/75\n",
      "1280000/1280000 - 153s - loss: 0.3655 - accuracy: 0.8359 - val_loss: 0.3683 - val_accuracy: 0.8383\n",
      "Epoch 61/75\n",
      "1280000/1280000 - 154s - loss: 0.3651 - accuracy: 0.8362 - val_loss: 0.3634 - val_accuracy: 0.8400\n",
      "Epoch 62/75\n",
      "1280000/1280000 - 153s - loss: 0.3646 - accuracy: 0.8366 - val_loss: 0.3679 - val_accuracy: 0.8387\n",
      "Epoch 63/75\n",
      "1280000/1280000 - 155s - loss: 0.3647 - accuracy: 0.8365 - val_loss: 0.3625 - val_accuracy: 0.8398\n",
      "Epoch 64/75\n",
      "1280000/1280000 - 153s - loss: 0.3646 - accuracy: 0.8366 - val_loss: 0.3614 - val_accuracy: 0.8401\n",
      "Epoch 65/75\n",
      "1280000/1280000 - 152s - loss: 0.3646 - accuracy: 0.8366 - val_loss: 0.3629 - val_accuracy: 0.8397\n",
      "Epoch 66/75\n",
      "1280000/1280000 - 153s - loss: 0.3644 - accuracy: 0.8364 - val_loss: 0.3622 - val_accuracy: 0.8398\n",
      "Epoch 67/75\n",
      "1280000/1280000 - 152s - loss: 0.3642 - accuracy: 0.8368 - val_loss: 0.3635 - val_accuracy: 0.8388\n",
      "Epoch 68/75\n",
      "1280000/1280000 - 153s - loss: 0.3641 - accuracy: 0.8371 - val_loss: 0.3633 - val_accuracy: 0.8405\n",
      "Epoch 69/75\n",
      "1280000/1280000 - 152s - loss: 0.3638 - accuracy: 0.8366 - val_loss: 0.3613 - val_accuracy: 0.8400\n",
      "Epoch 70/75\n",
      "1280000/1280000 - 153s - loss: 0.3639 - accuracy: 0.8367 - val_loss: 0.3679 - val_accuracy: 0.8391\n",
      "Epoch 71/75\n",
      "1280000/1280000 - 154s - loss: 0.3633 - accuracy: 0.8370 - val_loss: 0.3627 - val_accuracy: 0.8395\n",
      "Epoch 72/75\n",
      "1280000/1280000 - 153s - loss: 0.3629 - accuracy: 0.8374 - val_loss: 0.3608 - val_accuracy: 0.8402\n",
      "Epoch 73/75\n",
      "1280000/1280000 - 152s - loss: 0.3634 - accuracy: 0.8373 - val_loss: 0.3608 - val_accuracy: 0.8403\n",
      "Epoch 74/75\n",
      "1280000/1280000 - 153s - loss: 0.3628 - accuracy: 0.8372 - val_loss: 0.3610 - val_accuracy: 0.8403\n",
      "Epoch 75/75\n",
      "1280000/1280000 - 152s - loss: 0.3626 - accuracy: 0.8375 - val_loss: 0.3613 - val_accuracy: 0.8401\n"
     ]
    }
   ],
   "source": [
    "\n",
    "\n",
    "# Build the best model\n",
    "final_model = build_model(best_lstm_units, best_dropout_rate, best_learning_rate)\n",
    "\n",
    "# Train on the entire training set\n",
    "history = final_model.fit(\n",
    "    x_train, y_train,\n",
    "    batch_size=best_batch_size,\n",
    "    epochs=75,  # Train for more epochs\n",
    "    validation_data=(x_test, y_test),\n",
    "    verbose=2\n",
    ")\n",
    "\n",
    "# Save the final model\n",
    "#final_model.save(\"best_lstm_model.h5\")\n"
   ]
  },
  {
   "cell_type": "markdown",
   "metadata": {
    "papermill": {
     "duration": 0.277877,
     "end_time": "2025-01-09T16:29:15.500541",
     "exception": false,
     "start_time": "2025-01-09T16:29:15.222664",
     "status": "completed"
    },
    "tags": []
   },
   "source": [
    "### Optimization Algorithm\n",
    "This notebook uses Adam, optimization algorithm for Gradient Descent. \n",
    "\n"
   ]
  },
  {
   "cell_type": "code",
   "execution_count": 34,
   "metadata": {
    "papermill": {
     "duration": 0.291857,
     "end_time": "2025-01-09T16:29:16.068396",
     "exception": false,
     "start_time": "2025-01-09T16:29:15.776539",
     "status": "completed"
    },
    "tags": []
   },
   "outputs": [
    {
     "name": "stdout",
     "output_type": "stream",
     "text": [
      "Training on GPU...\n"
     ]
    }
   ],
   "source": [
    "print(\"Training on GPU...\") if tf.test.is_gpu_available() else print(\"Training on CPU...\")"
   ]
  },
  {
   "cell_type": "markdown",
   "metadata": {
    "papermill": {
     "duration": 0.278042,
     "end_time": "2025-01-09T16:29:16.622396",
     "exception": false,
     "start_time": "2025-01-09T16:29:16.344354",
     "status": "completed"
    },
    "tags": []
   },
   "source": [
    "# Model Evaluation\n",
    "Now that we have trained the model, we can evaluate its performance. We will some evaluation metrics and techniques to test the model.\n",
    "\n",
    "Let's start with the Learning Curve of loss and accuracy of the model on each epoch."
   ]
  },
  {
   "cell_type": "code",
   "execution_count": 35,
   "metadata": {
    "papermill": {
     "duration": 0.529404,
     "end_time": "2025-01-09T16:29:17.427851",
     "exception": false,
     "start_time": "2025-01-09T16:29:16.898447",
     "status": "completed"
    },
    "tags": []
   },
   "outputs": [
    {
     "data": {
      "text/plain": [
       "<matplotlib.legend.Legend at 0x798b443dab90>"
      ]
     },
     "execution_count": 35,
     "metadata": {},
     "output_type": "execute_result"
    },
    {
     "data": {
      "image/png": "[encoded data removed]",
      "text/plain": [
       "<Figure size 432x288 with 2 Axes>"
      ]
     },
     "metadata": {
      "needs_background": "light"
     },
     "output_type": "display_data"
    }
   ],
   "source": [
    "s, (at, al) = plt.subplots(2,1)\n",
    "at.plot(history.history['accuracy'], c= 'b')\n",
    "at.plot(history.history['val_accuracy'], c='r')\n",
    "at.set_title('model accuracy')\n",
    "at.set_ylabel('accuracy')\n",
    "at.set_xlabel('epoch')\n",
    "at.legend(['train', 'val'], loc='upper left')\n",
    "\n",
    "al.plot(history.history['loss'], c='m')\n",
    "al.plot(history.history['val_loss'], c='c')\n",
    "al.set_title('model loss')\n",
    "al.set_ylabel('loss')\n",
    "al.set_xlabel('epoch')\n",
    "al.legend(['train', 'val'], loc = 'upper left')"
   ]
  },
  {
   "cell_type": "code",
   "execution_count": 36,
   "metadata": {
    "papermill": {
     "duration": 0.621103,
     "end_time": "2025-01-09T16:29:18.329737",
     "exception": false,
     "start_time": "2025-01-09T16:29:17.708634",
     "status": "completed"
    },
    "tags": []
   },
   "outputs": [
    {
     "data": {
      "image/png": "[encoded data removed]",
      "text/plain": [
       "<Figure size 576x432 with 2 Axes>"
      ]
     },
     "metadata": {
      "needs_background": "light"
     },
     "output_type": "display_data"
    }
   ],
   "source": [
    "# Assuming you have your history object \n",
    "\n",
    "s, (at, al) = plt.subplots(2, 1, figsize=(8, 6))  # Adjust figsize as needed\n",
    "\n",
    "# Plot accuracy\n",
    "at.plot(history.history['accuracy'], c='b', label='train')\n",
    "at.plot(history.history['val_accuracy'], c='r', label='val')\n",
    "at.set_title('Model Accuracy')\n",
    "at.set_ylabel('Accuracy')\n",
    "at.set_xlabel('Epoch')\n",
    "at.legend(loc='upper left')\n",
    "\n",
    "# Plot loss\n",
    "al.plot(history.history['loss'], c='m', label='train')\n",
    "al.plot(history.history['val_loss'], c='c', label='val')\n",
    "al.set_title('Model Loss')\n",
    "al.set_ylabel('Loss')\n",
    "al.set_xlabel('Epoch')\n",
    "al.legend(loc='upper left')\n",
    "\n",
    "plt.tight_layout()  # Improve spacing between subplots\n",
    "plt.show()"
   ]
  },
  {
   "cell_type": "markdown",
   "metadata": {
    "papermill": {
     "duration": 0.278397,
     "end_time": "2025-01-09T16:29:18.888368",
     "exception": false,
     "start_time": "2025-01-09T16:29:18.609971",
     "status": "completed"
    },
    "tags": []
   },
   "source": [
    "The model will output a prediction score between 0 and 1. We can classify two classes by defining a threshold value for it. In our case, I have set 0.5 as THRESHOLD value, if the score above it. Then it will be classified as **POSITIVE** sentiment."
   ]
  },
  {
   "cell_type": "code",
   "execution_count": 37,
   "metadata": {
    "papermill": {
     "duration": 4.726712,
     "end_time": "2025-01-09T16:29:23.897810",
     "exception": false,
     "start_time": "2025-01-09T16:29:19.171098",
     "status": "completed"
    },
    "tags": []
   },
   "outputs": [
    {
     "name": "stdout",
     "output_type": "stream",
     "text": [
      "320000/320000 [==============================] - 4s 12us/sample\n"
     ]
    }
   ],
   "source": [
    "def decode_sentiment(score):\n",
    "    return \"Positive\" if score>0.5 else \"Negative\"\n",
    "\n",
    "\n",
    "scores = final_model.predict(x_test, verbose=1, batch_size=10000)\n",
    "y_pred_1d = [decode_sentiment(score) for score in scores]"
   ]
  },
  {
   "cell_type": "markdown",
   "metadata": {
    "papermill": {
     "duration": 0.326403,
     "end_time": "2025-01-09T16:29:24.511713",
     "exception": false,
     "start_time": "2025-01-09T16:29:24.185310",
     "status": "completed"
    },
    "tags": []
   },
   "source": [
    "### Confusion Matrix\n",
    "Confusion Matrix provide a nice overlook at the model's performance in classification task"
   ]
  },
  {
   "cell_type": "code",
   "execution_count": 38,
   "metadata": {
    "papermill": {
     "duration": 0.300604,
     "end_time": "2025-01-09T16:29:25.099523",
     "exception": false,
     "start_time": "2025-01-09T16:29:24.798919",
     "status": "completed"
    },
    "tags": []
   },
   "outputs": [],
   "source": [
    "import itertools\n",
    "from sklearn.metrics import confusion_matrix, classification_report, accuracy_score\n",
    "def plot_confusion_matrix(cm, classes,\n",
    "                          title='Confusion matrix',\n",
    "                          cmap=plt.cm.Blues):\n",
    "    \"\"\"\n",
    "    This function prints and plots the confusion matrix.\n",
    "    Normalization can be applied by setting `normalize=True`.\n",
    "    \"\"\"\n",
    "\n",
    "    cm = cm.astype('float') / cm.sum(axis=1)[:, np.newaxis]\n",
    "\n",
    "    plt.imshow(cm, interpolation='nearest', cmap=cmap)\n",
    "    plt.title(title, fontsize=20)\n",
    "    plt.colorbar()\n",
    "    tick_marks = np.arange(len(classes))\n",
    "    plt.xticks(tick_marks, classes, fontsize=13)\n",
    "    plt.yticks(tick_marks, classes, fontsize=13)\n",
    "\n",
    "    fmt = '.4f'\n",
    "    thresh = cm.max() / 2.\n",
    "    for i, j in itertools.product(range(cm.shape[0]), range(cm.shape[1])):\n",
    "        plt.text(j, i, format(cm[i, j], fmt),\n",
    "                 horizontalalignment=\"center\",\n",
    "                 color=\"white\" if cm[i, j] > thresh else \"black\")\n",
    "\n",
    "    plt.ylabel('True label', fontsize=17)\n",
    "    plt.xlabel('Predicted label', fontsize=17)"
   ]
  },
  {
   "cell_type": "code",
   "execution_count": 39,
   "metadata": {
    "papermill": {
     "duration": 1.160475,
     "end_time": "2025-01-09T16:29:26.548512",
     "exception": false,
     "start_time": "2025-01-09T16:29:25.388037",
     "status": "completed"
    },
    "tags": []
   },
   "outputs": [
    {
     "data": {
      "image/png": "[encoded data removed]",
      "text/plain": [
       "<Figure size 432x432 with 2 Axes>"
      ]
     },
     "metadata": {
      "needs_background": "light"
     },
     "output_type": "display_data"
    }
   ],
   "source": [
    "cnf_matrix = confusion_matrix(test_data.sentiment.to_list(), y_pred_1d)\n",
    "plt.figure(figsize=(6,6))\n",
    "plot_confusion_matrix(cnf_matrix, classes=test_data.sentiment.unique(), title=\"Confusion matrix\")\n",
    "plt.show()"
   ]
  },
  {
   "cell_type": "markdown",
   "metadata": {
    "papermill": {
     "duration": 0.293263,
     "end_time": "2025-01-09T16:29:27.145109",
     "exception": false,
     "start_time": "2025-01-09T16:29:26.851846",
     "status": "completed"
    },
    "tags": []
   },
   "source": [
    "### Classification Scores"
   ]
  },
  {
   "cell_type": "code",
   "execution_count": 40,
   "metadata": {
    "papermill": {
     "duration": 3.630485,
     "end_time": "2025-01-09T16:29:31.066830",
     "exception": false,
     "start_time": "2025-01-09T16:29:27.436345",
     "status": "completed"
    },
    "tags": []
   },
   "outputs": [
    {
     "name": "stdout",
     "output_type": "stream",
     "text": [
      "              precision    recall  f1-score   support\n",
      "\n",
      "    Negative     0.8326    0.8510    0.8417    159815\n",
      "    Positive     0.8480    0.8293    0.8385    160185\n",
      "\n",
      "    accuracy                         0.8401    320000\n",
      "   macro avg     0.8403    0.8401    0.8401    320000\n",
      "weighted avg     0.8403    0.8401    0.8401    320000\n",
      "\n"
     ]
    }
   ],
   "source": [
    "print(classification_report(list(test_data.sentiment), y_pred_1d, digits=4))"
   ]
  },
  {
   "cell_type": "markdown",
   "metadata": {
    "papermill": {
     "duration": 0.28933,
     "end_time": "2025-01-09T16:29:31.645910",
     "exception": false,
     "start_time": "2025-01-09T16:29:31.356580",
     "status": "completed"
    },
    "tags": []
   },
   "source": [
    "It's a pretty good model we trained here in terms of NLP. Around 80% accuracy is good enough considering the baseline human accuracy also pretty low in these tasks."
   ]
  },
  {
   "cell_type": "code",
   "execution_count": 41,
   "metadata": {
    "papermill": {
     "duration": 0.646875,
     "end_time": "2025-01-09T16:29:32.585935",
     "exception": false,
     "start_time": "2025-01-09T16:29:31.939060",
     "status": "completed"
    },
    "tags": []
   },
   "outputs": [
    {
     "name": "stderr",
     "output_type": "stream",
     "text": [
      "/opt/conda/lib/python3.7/site-packages/ipykernel_launcher.py:2: SettingWithCopyWarning: \n",
      "A value is trying to be set on a copy of a slice from a DataFrame.\n",
      "Try using .loc[row_indexer,col_indexer] = value instead\n",
      "\n",
      "See the caveats in the documentation: https://pandas.pydata.org/pandas-docs/stable/user_guide/indexing.html#returning-a-view-versus-a-copy\n",
      "  \n"
     ]
    },
    {
     "name": "stdout",
     "output_type": "stream",
     "text": [
      "Sample Misclassified Tweets:\n",
      "                                                      text sentiment  \\\n",
      "1339637                                       reply me pls  Positive   \n",
      "217849   song of my life now your love is a lie simple ...  Negative   \n",
      "792159   is curently at college doing nothing that has ...  Negative   \n",
      "220737     watching the last leno so glad i got to go once  Negative   \n",
      "1334666            i dropped your books off in the library  Positive   \n",
      "441478                             i do more that anything  Negative   \n",
      "29570    s ok i was confused for a moment i have to agr...  Negative   \n",
      "1491121  oh my jeebus i slept allll day how wonderful i...  Positive   \n",
      "1522865  ummm its gettting bettterrr than before but it...  Positive   \n",
      "749873   huh turns out i m like marmite when did i stop...  Negative   \n",
      "\n",
      "        Predicted Sentiment  \n",
      "1339637            Negative  \n",
      "217849             Positive  \n",
      "792159             Positive  \n",
      "220737             Positive  \n",
      "1334666            Negative  \n",
      "441478             Positive  \n",
      "29570              Positive  \n",
      "1491121            Negative  \n",
      "1522865            Negative  \n",
      "749873             Positive  \n",
      "Misclassified tweets saved to /kaggle/working/misclassified_tweets.csv\n"
     ]
    }
   ],
   "source": [
    "# Error Analysis: Misclassified Tweets\n",
    "test_data['Predicted Sentiment'] = y_pred_1d\n",
    "misclassified = test_data[test_data['sentiment'] != test_data['Predicted Sentiment']]\n",
    "\n",
    "# Display some misclassified examples\n",
    "print(\"Sample Misclassified Tweets:\")\n",
    "print(misclassified[['text', 'sentiment', 'Predicted Sentiment']].head(10))\n",
    "\n",
    "# Save misclassified tweets for manual analysis\n",
    "# Save misclassified tweets to a CSV file\n",
    "output_file_path = \"/kaggle/working/misclassified_tweets.csv\"  # Kaggle working directory\n",
    "misclassified.to_csv(output_file_path, index=False)\n",
    "\n",
    "print(f\"Misclassified tweets saved to {output_file_path}\")"
   ]
  }
 ],
 "metadata": {
  "kaggle": {
   "accelerator": "gpu",
   "dataSources": [
    {
     "datasetId": 2477,
     "sourceId": 4140,
     "sourceType": "datasetVersion"
    }
   ],
   "dockerImageVersionId": 29908,
   "isGpuEnabled": true,
   "isInternetEnabled": true,
   "language": "python",
   "sourceType": "notebook"
  },
  "kernelspec": {
   "display_name": "Python 3",
   "language": "python",
   "name": "python3"
  },
  "language_info": {
   "codemirror_mode": {
    "name": "ipython",
    "version": 3
   },
   "file_extension": ".py",
   "mimetype": "text/x-python",
   "name": "python",
   "nbconvert_exporter": "python",
   "pygments_lexer": "ipython3",
   "version": "3.7.6"
  },
  "papermill": {
   "duration": 12002.79797,
   "end_time": "2025-01-09T16:29:36.091998",
   "environment_variables": {},
   "exception": null,
   "input_path": "__notebook__.ipynb",
   "output_path": "__notebook__.ipynb",
   "parameters": {},
   "start_time": "2025-01-09T13:09:33.294028",
   "version": "1.2.1"
  }
 },
 "nbformat": 4,
 "nbformat_minor": 4
}
